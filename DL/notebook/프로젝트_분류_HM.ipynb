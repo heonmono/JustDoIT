{
 "cells": [
  {
   "cell_type": "code",
   "execution_count": 1,
   "metadata": {},
   "outputs": [
    {
     "name": "stdout",
     "output_type": "stream",
     "text": [
      "package loaded\n"
     ]
    }
   ],
   "source": [
    "# Packages Load\n",
    "import pandas as pd\n",
    "import matplotlib.pyplot as plt\n",
    "import numpy as np\n",
    "import tensorflow as tf\n",
    "import warnings\n",
    "import os\n",
    "warnings.filterwarnings(\"ignore\")\n",
    "tf.__version__\n",
    "print(\"package loaded\")"
   ]
  },
  {
   "cell_type": "code",
   "execution_count": 2,
   "metadata": {},
   "outputs": [
    {
     "name": "stdout",
     "output_type": "stream",
     "text": [
      "C:\\Users\\heon1\\Desktop\\AFTER_PRERROCESSING\n"
     ]
    }
   ],
   "source": [
    "# os\n",
    "cwd = (r'C:\\Users\\heon1\\Desktop\\AFTER_PRERROCESSING')\n",
    "os.chdir(cwd)\n",
    "os.getcwd()\n",
    "print(os.getcwd())"
   ]
  },
  {
   "cell_type": "code",
   "execution_count": 3,
   "metadata": {},
   "outputs": [
    {
     "data": {
      "text/plain": [
       "Index(['Date', 'Open', 'Close', 'High', 'Low', 'Adj Close', 'Volume', 'wti',\n",
       "       'gold', 'nasdac', 'cospi', 'usd', 'avg_5_adj', 'avg_5_vol', 'adjrate',\n",
       "       'classification'],\n",
       "      dtype='object')"
      ]
     },
     "execution_count": 3,
     "metadata": {},
     "output_type": "execute_result"
    }
   ],
   "source": [
    "# Load Data\n",
    "df = pd.read_csv(cwd+ r\"\\HM.csv\") #encoding = 'UTF-8')\n",
    "df.describe()\n",
    "df\n",
    "df.columns"
   ]
  },
  {
   "cell_type": "code",
   "execution_count": null,
   "metadata": {},
   "outputs": [],
   "source": [
    "# PLOT\n",
    "plt.plot(df['Date'], df['Close'])\n",
    "plt.xlabel('date')\n",
    "plt.ylabel('close')\n",
    "plt.show()\n"
   ]
  },
  {
   "cell_type": "code",
   "execution_count": 4,
   "metadata": {},
   "outputs": [
    {
     "name": "stdout",
     "output_type": "stream",
     "text": [
      "Index(['Open', 'Close', 'High', 'Low', 'Adj Close', 'Volume', 'wti', 'gold',\n",
      "       'nasdac', 'cospi', 'usd', 'avg_5_adj', 'avg_5_vol', 'adjrate',\n",
      "       'classification'],\n",
      "      dtype='object')\n",
      "Open              float64\n",
      "Close             float64\n",
      "High              float64\n",
      "Low               float64\n",
      "Adj Close         float64\n",
      "Volume              int64\n",
      "wti               float64\n",
      "gold              float64\n",
      "nasdac            float64\n",
      "cospi             float64\n",
      "usd               float64\n",
      "avg_5_adj         float64\n",
      "avg_5_vol         float64\n",
      "adjrate           float64\n",
      "classification      int64\n",
      "dtype: object\n",
      "(2132, 15)\n"
     ]
    }
   ],
   "source": [
    "# Preprocessing\n",
    "df.drop(['Date'],axis=1, inplace=True)\n",
    "print(df.columns)\n",
    "print(df.dtypes)\n",
    "print(df.shape)"
   ]
  },
  {
   "cell_type": "code",
   "execution_count": 5,
   "metadata": {},
   "outputs": [],
   "source": [
    "# Normalization\n",
    "def min_max_scaling(x):\n",
    "    x_np = np.asarray(x)\n",
    "    return (x_np - x_np.min()) / (x_np.max() - x_np.min() + 1e-7)  # 1e-7은 0으로 나누는 오류 예방차원\n",
    "\n",
    "# 정규화하기 이전의 org_x값과 되돌리고 싶은 x를 입력하면 역정규화된 값을 리턴한다\n",
    "def reverse_min_max_scaling(org_x, x):\n",
    "    org_x_np = np.asarray(org_x)\n",
    "    x_np = np.asarray(x)\n",
    "    return (x_np * (org_x_np.max() - org_x_np.min() + 1e-7)) + org_x_np.min()"
   ]
  },
  {
   "cell_type": "code",
   "execution_count": 6,
   "metadata": {},
   "outputs": [
    {
     "name": "stdout",
     "output_type": "stream",
     "text": [
      "(2132, 5)\n",
      "(2132,)\n",
      "(2132,)\n",
      "(2132,)\n"
     ]
    }
   ],
   "source": [
    "norm_price = min_max_scaling(df[df.columns[0:5]])\n",
    "norm_price2 = min_max_scaling(df[df.columns[-4]])\n",
    "volumn = min_max_scaling(df[df.columns[5]])\n",
    "volumn2 = min_max_scaling(df[df.columns[-3]])\n",
    "print(norm_price.shape)\n",
    "print(volumn.shape)\n",
    "print(norm_price2.shape)\n",
    "print(volumn2.shape)"
   ]
  },
  {
   "cell_type": "code",
   "execution_count": 7,
   "metadata": {},
   "outputs": [
    {
     "name": "stdout",
     "output_type": "stream",
     "text": [
      "(2132, 5)\n",
      "(2132,)\n"
     ]
    }
   ],
   "source": [
    "tmp = np.array(df[df.columns[6:11]])\n",
    "print(tmp.shape)\n",
    "print(volumn.shape)\n",
    "volumn = np.reshape(volumn,((-1,1)))\n",
    "volumn2 = np.reshape(volumn2,((-1,1)))\n",
    "norm_price2 = np.reshape(norm_price2, ((-1,1)))\n"
   ]
  },
  {
   "cell_type": "code",
   "execution_count": 8,
   "metadata": {},
   "outputs": [
    {
     "name": "stdout",
     "output_type": "stream",
     "text": [
      "(2132, 13)\n",
      "[1 1 0 0 0]\n"
     ]
    }
   ],
   "source": [
    "# x,y 분할\n",
    "x= np.concatenate((norm_price, norm_price2, volumn, volumn2, tmp), axis=1)\n",
    "y= np.array(df[df.columns[-1]])\n",
    "print(x.shape)\n",
    "print(y[:5])"
   ]
  },
  {
   "cell_type": "code",
   "execution_count": 9,
   "metadata": {},
   "outputs": [],
   "source": [
    "# 하이퍼파라미터\n",
    "input_data_column_cnt = 13  # 입력데이터의 컬럼 개수(Variable 개수)\n",
    "output_data_column_cnt = 1  # 결과데이터의 컬럼 개수\n",
    "seq_length = 28  # 1개 시퀀스의 길이(시계열데이터 입력 개수)\n",
    "rnn_cell_hidden_dim = 20  # 각 셀의 (hidden)출력 크기\n",
    "forget_bias = 1.0  # 망각편향(기본값 1.0)\n",
    "num_stacked_layers = 1  # stacked LSTM layers 개수\n",
    "keep_prob = 1.0  # dropout할 때 keep할 비율\n",
    "epoch_num = 1000  # 에폭 횟수(학습용전체데이터를 몇 회 반복해서 학습할 것인가 입력)\n",
    "learning_rate = 0.01  # 학습률"
   ]
  },
  {
   "cell_type": "code",
   "execution_count": 10,
   "metadata": {},
   "outputs": [
    {
     "name": "stdout",
     "output_type": "stream",
     "text": [
      "[[ 3.00218835e-02  3.72895302e-02  3.81175243e-02  2.99298824e-02\n",
      "   3.69093093e-02  3.36748356e-02  6.54368284e-02  1.01207575e-01\n",
      "  -1.60000000e-02  5.20000000e-03 -2.00000000e-03  0.00000000e+00\n",
      "  -4.90000000e-03]\n",
      " [ 3.65536755e-02  3.81175243e-02  4.27173354e-02  3.60016795e-02\n",
      "   3.77337469e-02  3.48543859e-02  5.88993318e-02  9.44022606e-02\n",
      "   9.70000000e-03 -2.20000000e-03  7.50000000e-03  3.60000000e-03\n",
      "  -9.00000000e-04]\n",
      " [ 3.83015159e-02  3.75655283e-02  3.90375142e-02  3.64616744e-02\n",
      "   3.71841218e-02  3.58766535e-02  2.16509673e-02  9.21908725e-02\n",
      "  -1.51000000e-02 -3.70000000e-03 -1.24000000e-02 -5.00000000e-03\n",
      "   7.10000000e-03]\n",
      " [ 3.71056662e-02  3.75655283e-02  3.87615108e-02  3.61856764e-02\n",
      "   3.71841218e-02  3.68989210e-02  2.39024724e-02  8.26686120e-02\n",
      "  -2.78000000e-02  1.10000000e-03 -3.01000000e-02 -1.29000000e-02\n",
      "   1.18000000e-02]\n",
      " [ 3.63696733e-02  3.53576876e-02  3.79335221e-02  3.53576876e-02\n",
      "   3.49857758e-02  3.80784987e-02  2.36046331e-02  7.01765247e-02\n",
      "  -2.92000000e-02  1.44000000e-02 -8.30000000e-03 -2.07000000e-02\n",
      "   3.40000000e-03]\n",
      " [ 3.58176825e-02  3.37937059e-02  3.62776775e-02  3.37937059e-02\n",
      "   3.34285190e-02  3.73314437e-02  2.91074252e-02  5.54447265e-02\n",
      "  -4.60000000e-03  1.00000000e-04 -7.70000000e-03  1.42000000e-02\n",
      "  -2.20000000e-03]\n",
      " [ 3.32418481e-02  3.81175243e-02  3.81175243e-02  3.31498470e-02\n",
      "   3.77337469e-02  3.73314437e-02  1.89519551e-02  3.92458177e-02\n",
      "  -2.00000000e-03  7.90000000e-03  3.90000000e-03 -1.70000000e-03\n",
      "   2.90000000e-03]\n",
      " [ 3.78415210e-02  3.90375142e-02  3.95894996e-02  3.65536755e-02\n",
      "   3.86497762e-02  3.76460057e-02  2.16265216e-02  3.92359048e-02\n",
      "   7.00000000e-03  1.70000000e-03  1.26000000e-02  6.70000000e-03\n",
      "  -9.30000000e-03]\n",
      " [ 3.99575041e-02  4.27173354e-02  4.31773304e-02  3.90375142e-02\n",
      "   4.23137766e-02  3.87469437e-02  4.43830362e-02  4.75409004e-02\n",
      "  -4.60000000e-03  2.50000000e-03  2.80000000e-03  4.00000000e-03\n",
      "  -1.70000000e-03]\n",
      " [ 4.22573405e-02  4.08774939e-02  4.36373253e-02  3.88535120e-02\n",
      "   4.04818456e-02  3.99265226e-02  2.78422320e-02  4.92592730e-02\n",
      "  -1.31000000e-02  3.30000000e-03 -1.66000000e-02  1.00000000e-02\n",
      "  -9.00000000e-04]\n",
      " [ 4.13373506e-02  3.83015159e-02  4.13373506e-02  3.82095148e-02\n",
      "   3.79169464e-02  4.08898389e-02  3.20314383e-02  5.04449784e-02\n",
      "  -1.30000000e-02 -5.30000000e-03  4.00000000e-04 -2.30000000e-03\n",
      "   9.40000000e-03]\n",
      " [ 3.89455131e-02  4.08774939e-02  4.22573405e-02  3.84855181e-02\n",
      "   4.04818456e-02  4.14796420e-02  2.29076793e-02  5.20490491e-02\n",
      "  -4.90000000e-03 -2.00000000e-04 -9.20000000e-03 -4.40000000e-03\n",
      "  -1.60000000e-03]\n",
      " [ 4.17973456e-02  4.82371364e-02  4.91569881e-02  4.08774939e-02\n",
      "   4.78098358e-02  4.34455945e-02  6.70532424e-02  7.04698659e-02\n",
      "  -2.01000000e-02  4.00000000e-03 -1.66000000e-02 -4.10000000e-03\n",
      "   8.60000000e-03]\n",
      " [ 4.77771415e-02  4.73171466e-02  5.00769780e-02  4.45573152e-02\n",
      "   4.68938011e-02  4.44285697e-02  4.41181239e-02  7.03624423e-02\n",
      "   1.24000000e-02  6.30000000e-03  8.40000000e-03 -1.46000000e-02\n",
      "   3.90000000e-03]\n",
      " [ 4.91569881e-02  4.68571516e-02  4.91569881e-02  4.40973202e-02\n",
      "   4.64357838e-02  4.57064172e-02  3.44954718e-02  7.30603723e-02\n",
      "   1.16000000e-02 -3.30000000e-03 -1.07000000e-02 -2.90000000e-03\n",
      "  -5.10000000e-03]\n",
      " [ 4.54771668e-02  4.68571516e-02  4.91569881e-02  4.45573152e-02\n",
      "   4.64357838e-02  4.75347492e-02  2.23978105e-02  6.91538765e-02\n",
      "   2.47000000e-02  5.00000000e-04  1.65000000e-02 -1.00000000e-04\n",
      "   4.20000000e-03]\n",
      " [ 4.86971314e-02  4.77771415e-02  4.86971314e-02  4.45573152e-02\n",
      "   4.73518184e-02  4.90091982e-02  1.24778180e-02  6.49245031e-02\n",
      "  -6.30000000e-03  9.00000000e-04 -1.56000000e-02  1.77000000e-02\n",
      "  -3.00000000e-03]\n",
      " [ 4.73171466e-02  5.00769780e-02  5.09969678e-02  4.59371618e-02\n",
      "   4.96417669e-02  4.94023714e-02  2.84014913e-02  4.92509785e-02\n",
      "  -3.72000000e-02  9.10000000e-03 -2.80000000e-03 -9.90000000e-03\n",
      "   5.50000000e-03]\n",
      " [ 4.96169830e-02  5.51367840e-02  5.55967790e-02  4.91569881e-02\n",
      "   5.46798087e-02  5.10734218e-02  3.81738114e-02  4.68405229e-02\n",
      "   2.77000000e-02 -1.60000000e-03  2.97000000e-02  1.26000000e-02\n",
      "  -1.21000000e-02]\n",
      " [ 5.46767891e-02  5.51367840e-02  5.60567739e-02  5.28369476e-02\n",
      "   5.46798087e-02  5.28427729e-02  2.43519751e-02  4.27272722e-02\n",
      "   1.50000000e-02  4.20000000e-03  1.06000000e-02  6.30000000e-03\n",
      "  -3.80000000e-03]\n",
      " [ 5.46767891e-02  5.51367840e-02  5.65167688e-02  5.42167942e-02\n",
      "   5.46798087e-02  5.46121240e-02  2.77569213e-02  4.49004248e-02\n",
      "  -5.60000000e-03 -1.80000000e-03  1.53000000e-02  2.40000000e-03\n",
      "  -5.10000000e-03]\n",
      " [ 5.14569628e-02  5.14569628e-02  5.28369476e-02  5.05369729e-02\n",
      "   5.10158189e-02  5.53985000e-02  1.91889294e-02  4.76218221e-02\n",
      "  -6.80000000e-03  6.50000000e-03 -1.11000000e-02 -2.60000000e-03\n",
      "   5.00000000e-03]\n",
      " [ 5.09969678e-02  5.14569628e-02  5.37567992e-02  5.00769780e-02\n",
      "   5.10158189e-02  5.56934021e-02  2.37393343e-02  4.57312885e-02\n",
      "   7.80000000e-03 -1.40000000e-03  9.00000000e-03 -4.80000000e-03\n",
      "  -4.90000000e-03]\n",
      " [ 5.14569628e-02  5.28369476e-02  5.37567992e-02  4.91569881e-02\n",
      "   5.23898709e-02  5.52019305e-02  3.06904133e-02  4.26967242e-02\n",
      "  -5.60000000e-03 -5.30000000e-03  3.30000000e-03  2.90000000e-03\n",
      "  -3.90000000e-03]\n",
      " [ 5.19169577e-02  5.14569628e-02  5.32968043e-02  4.96169830e-02\n",
      "   5.10158189e-02  5.44155568e-02  3.18149186e-02  4.57229940e-02\n",
      "   2.96000000e-02 -3.50000000e-03  2.80000000e-03  1.02000000e-02\n",
      "  -1.60000000e-03]\n",
      " [ 5.28369476e-02  4.91569881e-02  5.28369476e-02  4.77771415e-02\n",
      "   4.87257322e-02  5.31376796e-02  2.91353632e-02  4.62819608e-02\n",
      "   9.70000000e-03  5.00000000e-04  1.93000000e-02  9.00000000e-03\n",
      "  -5.00000000e-03]\n",
      " [ 4.82371364e-02  4.73171466e-02  4.91569881e-02  4.68571516e-02\n",
      "   4.68938011e-02  5.22530029e-02  2.77943383e-02  4.97715074e-02\n",
      "  -5.10000000e-03  1.98000000e-02  1.80000000e-03 -2.00000000e-03\n",
      "   2.00000000e-04]\n",
      " [ 4.73171466e-02  4.45573152e-02  4.82371364e-02  4.13373506e-02\n",
      "   4.41458460e-02  5.07785539e-02  3.92339595e-02  5.60546739e-02\n",
      "  -1.02000000e-02 -2.40000000e-03  5.00000000e-03  4.80000000e-03\n",
      "  -8.00000000e-04]] -> 1\n"
     ]
    }
   ],
   "source": [
    "dataX = []  # 입력으로 사용될 Sequence Data\n",
    "dataY = []  # 출력(타켓)으로 사용\n",
    "\n",
    "for i in range(0, len(y) - seq_length):\n",
    "    _x = x[i: i + seq_length]\n",
    "    _y = y[i + seq_length]  # 다음 나타날 주가(정답)\n",
    "    if i is 0:\n",
    "        print(_x, \"->\", _y)  # 첫번째 행만 출력해 봄\n",
    "    dataX.append(_x)  # dataX 리스트에 추가\n",
    "    dataY.append(_y)  # dataY 리스트에 추가\n",
    "\n",
    "# 학습용/테스트용 데이터 생성\n",
    "# 전체 70%를 학습용 데이터로 사용\n",
    "train_size = int(len(dataY) * 0.7)\n",
    "# 나머지(30%)를 테스트용 데이터로 사용\n",
    "test_size = len(dataY) - train_size\n"
   ]
  },
  {
   "cell_type": "code",
   "execution_count": 11,
   "metadata": {},
   "outputs": [
    {
     "name": "stdout",
     "output_type": "stream",
     "text": [
      "(1472, 28, 13)\n",
      "(1472, 1)\n"
     ]
    }
   ],
   "source": [
    "# 데이터를 잘라 학습용 데이터 생성\n",
    "trainX = np.array(dataX[0:train_size])\n",
    "trainY = np.array(dataY[0:train_size])\n",
    "trainY = np.reshape(trainY, ((-1,1)))\n",
    "print(trainX.shape)\n",
    "print(trainY.shape)\n",
    "# 데이터를 잘라 테스트용 데이터 생성\n",
    "testX = np.array(dataX[train_size:len(dataX)])\n",
    "testY = np.array(dataY[train_size:len(dataY)])\n",
    "testY = np.reshape(testY, ((-1,1)))"
   ]
  },
  {
   "cell_type": "code",
   "execution_count": 12,
   "metadata": {},
   "outputs": [
    {
     "name": "stdout",
     "output_type": "stream",
     "text": [
      "X:  Tensor(\"Placeholder:0\", shape=(?, 28, 13), dtype=float32)\n",
      "Y:  Tensor(\"Placeholder_1:0\", shape=(?, 1), dtype=float32)\n"
     ]
    }
   ],
   "source": [
    "X = tf.placeholder(tf.float32, [None, seq_length, input_data_column_cnt])\n",
    "print(\"X: \", X)\n",
    "Y = tf.placeholder(tf.float32, [None, 1])\n",
    "print(\"Y: \", Y)\n"
   ]
  },
  {
   "cell_type": "code",
   "execution_count": 13,
   "metadata": {},
   "outputs": [
    {
     "name": "stdout",
     "output_type": "stream",
     "text": [
      "targets:  Tensor(\"Placeholder_2:0\", shape=(?, 1), dtype=float32)\n",
      "predictions:  Tensor(\"Placeholder_3:0\", shape=(?, 1), dtype=float32)\n"
     ]
    }
   ],
   "source": [
    "# 검증용 측정지표를 산출하기 위한 targets, predictions를 생성한다\n",
    "targets = tf.placeholder(tf.float32, [None, 1])\n",
    "print(\"targets: \", targets)\n",
    "\n",
    "predictions = tf.placeholder(tf.float32, [None, 1])\n",
    "print(\"predictions: \", predictions)"
   ]
  },
  {
   "cell_type": "code",
   "execution_count": 14,
   "metadata": {},
   "outputs": [],
   "source": [
    "# 모델(LSTM 네트워크) 생성\n",
    "def lstm_cell():\n",
    "    # LSTM셀을 생성\n",
    "    # num_units: 각 Cell 출력 크기\n",
    "    # forget_bias:  to the biases of the forget gate\n",
    "    #              (default: 1)  in order to reduce the scale of forgetting in the beginning of the training.\n",
    "    # state_is_tuple: True ==> accepted and returned states are 2-tuples of the c_state and m_state.\n",
    "    # state_is_tuple: False ==> they are concatenated along the column axis.\n",
    "    cell = tf.contrib.rnn.BasicLSTMCell(num_units=rnn_cell_hidden_dim,\n",
    "                                        forget_bias=forget_bias, state_is_tuple=True, activation=tf.nn.softsign)\n",
    "    if keep_prob < 1.0:\n",
    "        cell = tf.contrib.rnn.DropoutWrapper(cell, output_keep_prob=keep_prob)\n",
    "    return cell\n"
   ]
  },
  {
   "cell_type": "code",
   "execution_count": 15,
   "metadata": {},
   "outputs": [
    {
     "name": "stdout",
     "output_type": "stream",
     "text": [
      "WARNING:tensorflow:\n",
      "The TensorFlow contrib module will not be included in TensorFlow 2.0.\n",
      "For more information, please see:\n",
      "  * https://github.com/tensorflow/community/blob/master/rfcs/20180907-contrib-sunset.md\n",
      "  * https://github.com/tensorflow/addons\n",
      "  * https://github.com/tensorflow/io (for I/O related ops)\n",
      "If you depend on functionality not listed there, please file an issue.\n",
      "\n",
      "WARNING:tensorflow:From <ipython-input-14-03d89dc4bdee>:10: BasicLSTMCell.__init__ (from tensorflow.python.ops.rnn_cell_impl) is deprecated and will be removed in a future version.\n",
      "Instructions for updating:\n",
      "This class is equivalent as tf.keras.layers.LSTMCell, and will be replaced by that in Tensorflow 2.0.\n"
     ]
    }
   ],
   "source": [
    "# num_stacked_layers개의 층으로 쌓인 Stacked RNNs 생성\n",
    "stackedRNNs = [lstm_cell() for _ in range(num_stacked_layers)]\n",
    "multi_cells = tf.contrib.rnn.MultiRNNCell(stackedRNNs, state_is_tuple=True) if num_stacked_layers > 1 else lstm_cell()"
   ]
  },
  {
   "cell_type": "code",
   "execution_count": 16,
   "metadata": {},
   "outputs": [
    {
     "name": "stdout",
     "output_type": "stream",
     "text": [
      "WARNING:tensorflow:From <ipython-input-16-099bcb7c33d7>:2: dynamic_rnn (from tensorflow.python.ops.rnn) is deprecated and will be removed in a future version.\n",
      "Instructions for updating:\n",
      "Please use `keras.layers.RNN(cell)`, which is equivalent to this API\n",
      "WARNING:tensorflow:From C:\\Users\\heon1\\Anaconda3\\lib\\site-packages\\tensorflow\\python\\ops\\init_ops.py:1251: calling VarianceScaling.__init__ (from tensorflow.python.ops.init_ops) with dtype is deprecated and will be removed in a future version.\n",
      "Instructions for updating:\n",
      "Call initializer instance with the dtype argument instead of passing it to the constructor\n",
      "WARNING:tensorflow:From C:\\Users\\heon1\\Anaconda3\\lib\\site-packages\\tensorflow\\python\\ops\\rnn_cell_impl.py:738: calling Zeros.__init__ (from tensorflow.python.ops.init_ops) with dtype is deprecated and will be removed in a future version.\n",
      "Instructions for updating:\n",
      "Call initializer instance with the dtype argument instead of passing it to the constructor\n",
      "WARNING:tensorflow:Entity <bound method BasicLSTMCell.call of <tensorflow.python.ops.rnn_cell_impl.BasicLSTMCell object at 0x000001AA24D396C8>> could not be transformed and will be executed as-is. Please report this to the AutgoGraph team. When filing the bug, set the verbosity to 10 (on Linux, `export AUTOGRAPH_VERBOSITY=10`) and attach the full output. Cause: converting <bound method BasicLSTMCell.call of <tensorflow.python.ops.rnn_cell_impl.BasicLSTMCell object at 0x000001AA24D396C8>>: AssertionError: Bad argument number for Name: 3, expecting 4\n",
      "WARNING: Entity <bound method BasicLSTMCell.call of <tensorflow.python.ops.rnn_cell_impl.BasicLSTMCell object at 0x000001AA24D396C8>> could not be transformed and will be executed as-is. Please report this to the AutgoGraph team. When filing the bug, set the verbosity to 10 (on Linux, `export AUTOGRAPH_VERBOSITY=10`) and attach the full output. Cause: converting <bound method BasicLSTMCell.call of <tensorflow.python.ops.rnn_cell_impl.BasicLSTMCell object at 0x000001AA24D396C8>>: AssertionError: Bad argument number for Name: 3, expecting 4\n",
      "hypothesis:  Tensor(\"rnn/transpose_1:0\", shape=(?, 28, 20), dtype=float32)\n"
     ]
    }
   ],
   "source": [
    "# RNN Cell(여기서는 LSTM셀임)들을 연결\n",
    "hypothesis, _states = tf.nn.dynamic_rnn(multi_cells, X, dtype=tf.float32)\n",
    "print(\"hypothesis: \", hypothesis)\n",
    "#tf.Session.close()"
   ]
  },
  {
   "cell_type": "code",
   "execution_count": null,
   "metadata": {},
   "outputs": [],
   "source": [
    "print(hypothesis[:, -1])\n",
    "print(output_data_column_cnt)"
   ]
  },
  {
   "cell_type": "code",
   "execution_count": 17,
   "metadata": {},
   "outputs": [
    {
     "name": "stdout",
     "output_type": "stream",
     "text": [
      "WARNING:tensorflow:Entity <bound method Dense.call of <tensorflow.python.layers.core.Dense object at 0x000001AA284ED8C8>> could not be transformed and will be executed as-is. Please report this to the AutgoGraph team. When filing the bug, set the verbosity to 10 (on Linux, `export AUTOGRAPH_VERBOSITY=10`) and attach the full output. Cause: converting <bound method Dense.call of <tensorflow.python.layers.core.Dense object at 0x000001AA284ED8C8>>: AssertionError: Bad argument number for Name: 3, expecting 4\n",
      "WARNING: Entity <bound method Dense.call of <tensorflow.python.layers.core.Dense object at 0x000001AA284ED8C8>> could not be transformed and will be executed as-is. Please report this to the AutgoGraph team. When filing the bug, set the verbosity to 10 (on Linux, `export AUTOGRAPH_VERBOSITY=10`) and attach the full output. Cause: converting <bound method Dense.call of <tensorflow.python.layers.core.Dense object at 0x000001AA284ED8C8>>: AssertionError: Bad argument number for Name: 3, expecting 4\n"
     ]
    }
   ],
   "source": [
    "# [:, -1]를 잘 살펴보자. LSTM RNN의 마지막 (hidden)출력만을 사용했다.\n",
    "# 과거 여러 거래일의 주가를 이용해서 다음날의 주가 1개를 예측하기때문에 MANY-TO-ONE형태이다\n",
    "hypothesis = tf.contrib.layers.fully_connected(hypothesis[:, -1], output_data_column_cnt, activation_fn=tf.identity)"
   ]
  },
  {
   "cell_type": "code",
   "execution_count": null,
   "metadata": {},
   "outputs": [],
   "source": [
    "hypothesis"
   ]
  },
  {
   "cell_type": "code",
   "execution_count": 18,
   "metadata": {},
   "outputs": [
    {
     "name": "stdout",
     "output_type": "stream",
     "text": [
      "Tensor(\"Placeholder_1:0\", shape=(?, 1), dtype=float32)\n",
      "Tensor(\"fully_connected/Identity:0\", shape=(?, 1), dtype=float32)\n",
      "[[[ 3.00218835e-02  3.72895302e-02  3.81175243e-02 ... -2.00000000e-03\n",
      "    0.00000000e+00 -4.90000000e-03]\n",
      "  [ 3.65536755e-02  3.81175243e-02  4.27173354e-02 ...  7.50000000e-03\n",
      "    3.60000000e-03 -9.00000000e-04]\n",
      "  [ 3.83015159e-02  3.75655283e-02  3.90375142e-02 ... -1.24000000e-02\n",
      "   -5.00000000e-03  7.10000000e-03]\n",
      "  ...\n",
      "  [ 5.28369476e-02  4.91569881e-02  5.28369476e-02 ...  1.93000000e-02\n",
      "    9.00000000e-03 -5.00000000e-03]\n",
      "  [ 4.82371364e-02  4.73171466e-02  4.91569881e-02 ...  1.80000000e-03\n",
      "   -2.00000000e-03  2.00000000e-04]\n",
      "  [ 4.73171466e-02  4.45573152e-02  4.82371364e-02 ...  5.00000000e-03\n",
      "    4.80000000e-03 -8.00000000e-04]]\n",
      "\n",
      " [[ 3.65536755e-02  3.81175243e-02  4.27173354e-02 ...  7.50000000e-03\n",
      "    3.60000000e-03 -9.00000000e-04]\n",
      "  [ 3.83015159e-02  3.75655283e-02  3.90375142e-02 ... -1.24000000e-02\n",
      "   -5.00000000e-03  7.10000000e-03]\n",
      "  [ 3.71056662e-02  3.75655283e-02  3.87615108e-02 ... -3.01000000e-02\n",
      "   -1.29000000e-02  1.18000000e-02]\n",
      "  ...\n",
      "  [ 4.82371364e-02  4.73171466e-02  4.91569881e-02 ...  1.80000000e-03\n",
      "   -2.00000000e-03  2.00000000e-04]\n",
      "  [ 4.73171466e-02  4.45573152e-02  4.82371364e-02 ...  5.00000000e-03\n",
      "    4.80000000e-03 -8.00000000e-04]\n",
      "  [ 4.54771668e-02  5.23769526e-02  5.42167942e-02 ...  8.00000000e-04\n",
      "   -6.60000000e-03  3.00000000e-03]]\n",
      "\n",
      " [[ 3.83015159e-02  3.75655283e-02  3.90375142e-02 ... -1.24000000e-02\n",
      "   -5.00000000e-03  7.10000000e-03]\n",
      "  [ 3.71056662e-02  3.75655283e-02  3.87615108e-02 ... -3.01000000e-02\n",
      "   -1.29000000e-02  1.18000000e-02]\n",
      "  [ 3.63696733e-02  3.53576876e-02  3.79335221e-02 ... -8.30000000e-03\n",
      "   -2.07000000e-02  3.40000000e-03]\n",
      "  ...\n",
      "  [ 4.73171466e-02  4.45573152e-02  4.82371364e-02 ...  5.00000000e-03\n",
      "    4.80000000e-03 -8.00000000e-04]\n",
      "  [ 4.54771668e-02  5.23769526e-02  5.42167942e-02 ...  8.00000000e-04\n",
      "   -6.60000000e-03  3.00000000e-03]\n",
      "  [ 5.28369476e-02  5.78966261e-02  5.88166159e-02 ...  5.40000000e-03\n",
      "    8.60000000e-03 -1.60000000e-03]]\n",
      "\n",
      " ...\n",
      "\n",
      " [[ 6.89722529e-01  6.89722529e-01  6.93390240e-01 ... -6.30000000e-03\n",
      "    2.10000000e-03  6.00000000e-04]\n",
      "  [ 6.92166762e-01  6.98280068e-01  7.05615490e-01 ... -9.10000000e-03\n",
      "   -3.40000000e-03  4.40000000e-03]\n",
      "  [ 6.93390240e-01  7.01947779e-01  7.06837607e-01 ...  9.20000000e-03\n",
      "    7.70000000e-03 -1.08000000e-02]\n",
      "  ...\n",
      "  [ 4.04265731e-01  3.91429423e-01  4.16490981e-01 ... -2.00000000e-04\n",
      "   -5.60000000e-03 -4.00000000e-03]\n",
      "  [ 3.90818364e-01  3.75537823e-01  3.95708192e-01 ... -6.90000000e-03\n",
      "   -4.00000000e-04  2.70000000e-03]\n",
      "  [ 3.79205534e-01  3.56588209e-01  3.79205534e-01 ... -9.30000000e-03\n",
      "   -1.42000000e-02 -7.00000000e-04]]\n",
      "\n",
      " [[ 6.92166762e-01  6.98280068e-01  7.05615490e-01 ... -9.10000000e-03\n",
      "   -3.40000000e-03  4.40000000e-03]\n",
      "  [ 6.93390240e-01  7.01947779e-01  7.06837607e-01 ...  9.20000000e-03\n",
      "    7.70000000e-03 -1.08000000e-02]\n",
      "  [ 7.11727434e-01  6.99502184e-01  7.12949551e-01 ...  2.40000000e-03\n",
      "   -4.70000000e-03 -3.90000000e-03]\n",
      "  ...\n",
      "  [ 3.90818364e-01  3.75537823e-01  3.95708192e-01 ... -6.90000000e-03\n",
      "   -4.00000000e-04  2.70000000e-03]\n",
      "  [ 3.79205534e-01  3.56588209e-01  3.79205534e-01 ... -9.30000000e-03\n",
      "   -1.42000000e-02 -7.00000000e-04]\n",
      "  [ 3.56588209e-01  3.77982056e-01  3.80427650e-01 ... -9.20000000e-03\n",
      "    2.50000000e-03 -5.00000000e-04]]\n",
      "\n",
      " [[ 6.93390240e-01  7.01947779e-01  7.06837607e-01 ...  9.20000000e-03\n",
      "    7.70000000e-03 -1.08000000e-02]\n",
      "  [ 7.11727434e-01  6.99502184e-01  7.12949551e-01 ...  2.40000000e-03\n",
      "   -4.70000000e-03 -3.90000000e-03]\n",
      "  [ 7.09283201e-01  7.06837607e-01  7.09283201e-01 ... -9.30000000e-03\n",
      "    7.60000000e-03  9.20000000e-03]\n",
      "  ...\n",
      "  [ 3.79205534e-01  3.56588209e-01  3.79205534e-01 ... -9.30000000e-03\n",
      "   -1.42000000e-02 -7.00000000e-04]\n",
      "  [ 3.56588209e-01  3.77982056e-01  3.80427650e-01 ... -9.20000000e-03\n",
      "    2.50000000e-03 -5.00000000e-04]\n",
      "  [ 3.77982056e-01  3.90207306e-01  3.97542728e-01 ... -2.40000000e-03\n",
      "   -9.00000000e-04 -2.60000000e-03]]]\n",
      "[[1]\n",
      " [1]\n",
      " [0]\n",
      " ...\n",
      " [1]\n",
      " [1]\n",
      " [0]]\n"
     ]
    }
   ],
   "source": [
    "print(Y)\n",
    "print(hypothesis)\n",
    "print(trainX)\n",
    "print(trainY)"
   ]
  },
  {
   "cell_type": "code",
   "execution_count": 31,
   "metadata": {},
   "outputs": [],
   "source": [
    "# [:, -1]를 잘 살펴보자. LSTM RNN의 마지막 (hidden)출력만을 사용했다.\n",
    "# 과거 여러 거래일의 주가를 이용해서 다음날의 주가 1개를 예측하기때문에 MANY-TO-ONE형태이다\n",
    "#hypothesis = tf.contrib.layers.fully_connected(hypothesis[:, -1], output_data_column_cnt, activation_fn=tf.identity)\n",
    "loss = tf.reduce_mean(tf.nn.sigmoid_cross_entropy_with_logits(labels=Y, logits=hypothesis))\n",
    "\n",
    "# 최적화함수로 AdamOptimizer를 사용한다\n",
    "optimizer = tf.train.AdamOptimizer(learning_rate)\n",
    "# optimizer = tf.train.RMSPropOptimizer(learning_rate) # LSTM과 궁합 별로임\n",
    "#correct_pred = tf.equal(tf.round(tf.nn.sigmoid(hypothesis)), Y)\n",
    "accr = tf.reduce_mean(tf.cast(tf.equal(tf.round(tf.nn.sigmoid(hypothesis)), Y), tf.float32))\n",
    "\n",
    "train = optimizer.minimize(loss)\n"
   ]
  },
  {
   "cell_type": "code",
   "execution_count": 32,
   "metadata": {},
   "outputs": [],
   "source": [
    "train_error_summary = []  # 학습용 데이터의 오류를 중간 중간 기록한다\n",
    "test_error_summary = []  # 테스트용 데이터의 오류를 중간 중간 기록한다\n",
    "train_accr_summary = []\n",
    "test_accr_summary = []\n",
    "test_predict = ''  # 테스트용데이터로 예측한 결과\n"
   ]
  },
  {
   "cell_type": "code",
   "execution_count": 34,
   "metadata": {},
   "outputs": [],
   "source": [
    "sess = tf.Session()\n",
    "sess.run(tf.global_variables_initializer())\n",
    "import  datetime\n",
    "start_time = datetime.datetime.now()  # 시작시간을 기록한다"
   ]
  },
  {
   "cell_type": "code",
   "execution_count": 35,
   "metadata": {},
   "outputs": [
    {
     "name": "stdout",
     "output_type": "stream",
     "text": [
      "학습을 시작합니다...\n",
      "epoch: 100, train_accr(A): 0.5808423757553101, test_accr(B): 0.4889240562915802\n",
      "epoch: 200, train_accr(A): 0.6338315010070801, test_accr(B): 0.5047468543052673\n",
      "epoch: 300, train_accr(A): 0.648777186870575, test_accr(B): 0.4905063211917877\n",
      "epoch: 400, train_accr(A): 0.7180706262588501, test_accr(B): 0.5094936490058899\n",
      "epoch: 500, train_accr(A): 0.7323369383811951, test_accr(B): 0.4984177350997925\n",
      "epoch: 600, train_accr(A): 0.7493206262588501, test_accr(B): 0.5079113841056824\n",
      "epoch: 700, train_accr(A): 0.7724184989929199, test_accr(B): 0.5\n",
      "epoch: 800, train_accr(A): 0.805027186870575, test_accr(B): 0.5015822649002075\n",
      "epoch: 900, train_accr(A): 0.823369562625885, test_accr(B): 0.4889240562915802\n",
      "epoch: 1000, train_accr(A): 0.858016312122345, test_accr(B): 0.474683552980423\n"
     ]
    }
   ],
   "source": [
    "print('학습을 시작합니다...')\n",
    "for epoch in range(epoch_num):\n",
    "    _, _loss = sess.run([train, loss], feed_dict={X: trainX, Y: trainY})\n",
    "    if ((epoch + 1) % 100 == 0) or (epoch == epoch_num - 1):  # 100번째마다 또는 마지막 epoch인 경우\n",
    "        # 학습용데이터로 accr오차를 구한다\n",
    "#        train_predict = sess.run(hypothesis, feed_dict={X: trainX})\n",
    "#        train_error = sess.run(loss, feed_dict={X: trainY, Y: train_predict})\n",
    "        train_acc = sess.run(accr,feed_dict={X: trainX, Y: trainY})\n",
    "#        train_error_summary.append(train_error)\n",
    "        train_accr_summary.append(train_acc)\n",
    "        \n",
    "                # 테스트용데이터로 rmse오차를 구한다\n",
    "#        test_predict = sess.run(hypothesis, feed_dict={X: testX})\n",
    "#        test_error = sess.run(loss, feed_dict={X: testY, Y: test_predict})\n",
    "        test_acc = sess.run(accr,feed_dict={X: testX, Y: testY})        \n",
    "#        test_error_summary.append(test_error)\n",
    "        test_accr_summary.append(test_acc)\n",
    "\n",
    "        # 현재 오류를 출력한다\n",
    "        print(\"epoch: {}, train_accr(A): {}, test_accr(B): {}\".format(epoch + 1, train_acc, \n",
    "                                                                      test_acc))"
   ]
  },
  {
   "cell_type": "code",
   "execution_count": 28,
   "metadata": {},
   "outputs": [
    {
     "data": {
      "text/plain": [
       "Text(0, 0.5, 'Root Mean Square Error')"
      ]
     },
     "execution_count": 28,
     "metadata": {},
     "output_type": "execute_result"
    },
    {
     "data": {
      "image/png": "[encoded data removed]",
      "text/plain": [
       "<Figure size 432x288 with 1 Axes>"
      ]
     },
     "metadata": {
      "needs_background": "light"
     },
     "output_type": "display_data"
    }
   ],
   "source": [
    "# 결과 그래프 출력\n",
    "plt.figure(1)\n",
    "plt.plot(train_accr_summary, 'gold')\n",
    "plt.plot(test_accr_summary, 'b')\n",
    "plt.xlabel('Epoch(x100)')\n",
    "plt.ylabel('Root Mean Square Error')"
   ]
  },
  {
   "cell_type": "code",
   "execution_count": 29,
   "metadata": {},
   "outputs": [
    {
     "name": "stdout",
     "output_type": "stream",
     "text": [
      "recent_data.shape: (1, 28, 13)\n",
      "recent_data: [[[ 3.40149514e-01  3.59202559e-01  3.65326752e-01  3.37427650e-01\n",
      "    3.59202559e-01  3.60832073e-01  5.17721435e-02  4.63628825e-02\n",
      "   -5.66000000e-02  1.30000000e-03  4.00000000e-03  1.00000000e-04\n",
      "    2.20000000e-03]\n",
      "  [ 3.62604888e-01  3.57161161e-01  3.62604888e-01  3.55800229e-01\n",
      "    3.57161161e-01  3.66527754e-01  1.12904521e-02  4.79784845e-02\n",
      "   -2.07000000e-02  1.60000000e-03 -1.10000000e-03  4.10000000e-03\n",
      "    3.50000000e-03]\n",
      "  [ 3.57841627e-01  3.51036968e-01  3.61243956e-01  3.48995570e-01\n",
      "    3.51036968e-01  3.72515522e-01  2.12294026e-02  4.40339556e-02\n",
      "    3.00000000e-04 -6.30000000e-03  7.00000000e-04  4.60000000e-03\n",
      "    3.00000000e-03]\n",
      "  [ 3.52397900e-01  3.51717434e-01  3.55800229e-01  3.50356502e-01\n",
      "    3.51717434e-01  3.76166600e-01  1.29542610e-02  3.80995616e-02\n",
      "   -7.00000000e-04  5.90000000e-03 -8.00000000e-03  5.40000000e-03\n",
      "   -1.00000000e-03]\n",
      "  [ 3.50356502e-01  3.41510446e-01  3.51036968e-01  3.40829980e-01\n",
      "    3.41510446e-01  3.76458686e-01  2.01428132e-02  3.93154104e-02\n",
      "    9.50000000e-03  1.08000000e-02 -6.00000000e-04  1.00000000e-04\n",
      "    8.00000000e-04]\n",
      "  [ 3.36747185e-01  3.40149514e-01  3.42190912e-01  3.34025321e-01\n",
      "    3.40149514e-01  3.72369479e-01  1.42888003e-02  2.41156824e-02\n",
      "   -2.30000000e-02  5.70000000e-03 -1.46000000e-02  4.50000000e-03\n",
      "    4.00000000e-04]\n",
      "  [ 3.40149514e-01  3.32664389e-01  3.43551843e-01  3.32664389e-01\n",
      "    3.32664389e-01  3.67111926e-01  1.57031625e-02  2.59050639e-02\n",
      "   -1.40000000e-02 -1.81000000e-02  1.05000000e-02 -1.32000000e-02\n",
      "    3.60000000e-03]\n",
      "  [ 3.34025321e-01  3.31303458e-01  3.39469048e-01  3.29942526e-01\n",
      "    3.31303458e-01  3.62876676e-01  1.24324187e-02  2.23378324e-02\n",
      "   -1.40000000e-03  1.90000000e-03 -5.80000000e-03  5.00000000e-04\n",
      "    5.00000000e-04]\n",
      "  [ 3.33344855e-01  3.28581594e-01  3.34025321e-01  3.27220662e-01\n",
      "    3.28581594e-01  3.57911210e-01  1.23655670e-02  2.20991133e-02\n",
      "   -8.90000000e-03 -5.80000000e-03 -1.13000000e-02 -1.19000000e-02\n",
      "    2.10000000e-03]\n",
      "  [ 3.29942526e-01  3.24498799e-01  3.30622992e-01  3.22457401e-01\n",
      "    3.24498799e-01  3.54260132e-01  1.24927848e-02  1.89969794e-02\n",
      "   -3.29000000e-02 -2.22000000e-02  7.50000000e-03  6.40000000e-03\n",
      "   -3.20000000e-03]\n",
      "  [ 3.28581594e-01  3.41510446e-01  3.41510446e-01  3.25859730e-01\n",
      "    3.41510446e-01  3.54552219e-01  1.69793314e-02  2.00880064e-02\n",
      "   -8.30000000e-03  1.09000000e-02 -1.13000000e-02  4.50000000e-03\n",
      "    3.60000000e-03]\n",
      "  [ 3.36066719e-01  3.36747185e-01  3.40829980e-01  3.35386253e-01\n",
      "    3.36747185e-01  3.55428477e-01  1.52990590e-02  1.99241399e-02\n",
      "   -1.83000000e-02  1.27000000e-02 -1.56000000e-02 -1.95000000e-02\n",
      "    1.70000000e-03]\n",
      "  [ 3.31303458e-01  3.46954173e-01  3.48315105e-01  3.31303458e-01\n",
      "    3.46954173e-01  3.58787469e-01  2.48932743e-02  2.49770941e-02\n",
      "   -1.10000000e-03 -5.60000000e-03 -3.30000000e-03  5.00000000e-04\n",
      "    4.30000000e-03]\n",
      "  [ 3.47634639e-01  3.47634639e-01  3.51036968e-01  3.41510446e-01\n",
      "    3.47634639e-01  3.62876676e-01  2.38565742e-02  2.96367687e-02\n",
      "   -2.30000000e-03 -3.00000000e-04 -1.67000000e-02  1.21000000e-02\n",
      "    2.20000000e-03]\n",
      "  [ 3.41510446e-01  3.45593241e-01  3.47634639e-01  3.39469048e-01\n",
      "    3.45593241e-01  3.67404013e-01  2.26751951e-02  3.37657992e-02\n",
      "    1.83000000e-02 -7.90000000e-03  6.00000000e-03 -8.80000000e-03\n",
      "   -6.70000000e-03]\n",
      "  [ 3.46954173e-01  3.38788582e-01  3.48315105e-01  3.38788582e-01\n",
      "    3.38788582e-01  3.66819840e-01  1.17165069e-02  3.16316913e-02\n",
      "    2.15000000e-02 -8.10000000e-03  1.34000000e-02  8.10000000e-03\n",
      "   -5.90000000e-03]\n",
      "  [ 3.40829980e-01  3.44912775e-01  3.46273707e-01  3.40829980e-01\n",
      "    3.44912775e-01  3.68572358e-01  1.08589095e-02  2.98311831e-02\n",
      "   -2.03000000e-02  6.00000000e-03 -1.00000000e-03  1.11000000e-02\n",
      "    1.00000000e-03]\n",
      "  [ 3.46273707e-01  3.46954173e-01  3.48995570e-01  3.44912775e-01\n",
      "    3.46954173e-01  3.68572358e-01  8.40635051e-03  2.31456334e-02\n",
      "   -1.46000000e-02 -9.40000000e-03  1.24000000e-02  4.00000000e-04\n",
      "    2.00000000e-04]\n",
      "  [ 3.49676036e-01  3.57161161e-01  3.62604888e-01  3.48315105e-01\n",
      "    3.57161161e-01  3.70616961e-01  2.73932281e-02  2.45797685e-02\n",
      "    1.04000000e-02  7.10000000e-03 -3.00000000e-03  7.10000000e-03\n",
      "    1.40000000e-03]\n",
      "  [ 3.58522093e-01  3.63285354e-01  3.70770479e-01  3.58522093e-01\n",
      "    3.63285354e-01  3.74414082e-01  3.01605887e-02  2.76151420e-02\n",
      "    1.07000000e-02  2.90000000e-03  4.00000000e-03 -2.30000000e-03\n",
      "   -6.30000000e-03]\n",
      "  [ 3.68048615e-01  3.53078366e-01  3.68048615e-01  3.51717434e-01\n",
      "    3.53078366e-01  3.77480988e-01  2.07330038e-02  3.12713874e-02\n",
      "   -2.80000000e-03 -2.80000000e-03 -8.30000000e-03 -8.30000000e-03\n",
      "   -1.00000000e-04]\n",
      "  [ 3.55800229e-01  3.55119763e-01  3.59202559e-01  3.50356502e-01\n",
      "    3.55119763e-01  3.79671634e-01  9.84066848e-03  3.08584843e-02\n",
      "   -8.70000000e-03 -4.00000000e-03  9.10000000e-03  2.00000000e-03\n",
      "   -5.40000000e-03]\n",
      "  [ 3.57161161e-01  3.61243956e-01  3.69409547e-01  3.55119763e-01\n",
      "    3.61243956e-01  3.82738540e-01  2.60003183e-02  3.79929473e-02\n",
      "    1.59000000e-02 -4.00000000e-04 -7.20000000e-03  1.16000000e-02\n",
      "    5.00000000e-04]\n",
      "  [ 3.69409547e-01  3.89143057e-01  3.89823523e-01  3.68048615e-01\n",
      "    3.89143057e-01  3.89602566e-01  6.48396532e-02  5.31777047e-02\n",
      "    2.94000000e-02  4.90000000e-03  1.90000000e-03 -3.90000000e-03\n",
      "   -2.80000000e-03]\n",
      "  [ 3.68048615e-01  3.53078366e-01  3.68048615e-01  3.51717434e-01\n",
      "    3.53078366e-01  3.77480988e-01  2.07330038e-02  3.12713874e-02\n",
      "   -2.80000000e-03 -2.80000000e-03 -8.30000000e-03 -8.30000000e-03\n",
      "   -1.00000000e-04]\n",
      "  [ 3.55800229e-01  3.55119763e-01  3.59202559e-01  3.50356502e-01\n",
      "    3.55119763e-01  3.79671634e-01  9.84066848e-03  3.08584843e-02\n",
      "   -8.70000000e-03 -4.00000000e-03  9.10000000e-03  2.00000000e-03\n",
      "   -5.40000000e-03]\n",
      "  [ 3.57161161e-01  3.61243956e-01  3.69409547e-01  3.55119763e-01\n",
      "    3.61243956e-01  3.82738540e-01  2.60003183e-02  3.79929473e-02\n",
      "    1.59000000e-02 -4.00000000e-04 -7.20000000e-03  1.16000000e-02\n",
      "    5.00000000e-04]\n",
      "  [ 3.69409547e-01  3.89143057e-01  3.89823523e-01  3.68048615e-01\n",
      "    3.89143057e-01  3.89602566e-01  6.48396532e-02  5.31777047e-02\n",
      "    2.94000000e-02  4.90000000e-03  1.90000000e-03 -3.90000000e-03\n",
      "   -2.80000000e-03]]]\n"
     ]
    }
   ],
   "source": [
    "recent_data = np.array([x[len(x) - seq_length:]])\n",
    "print(\"recent_data.shape:\", recent_data.shape)\n",
    "print(\"recent_data:\", recent_data)"
   ]
  },
  {
   "cell_type": "code",
   "execution_count": 30,
   "metadata": {},
   "outputs": [
    {
     "name": "stdout",
     "output_type": "stream",
     "text": [
      "test_predict [0.15958965]\n"
     ]
    }
   ],
   "source": [
    "# 내일 종가를 예측해본다\n",
    "test_predict = sess.run(hypothesis, feed_dict={X: recent_data})\n",
    "\n",
    "print(\"test_predict\", test_predict[0])"
   ]
  },
  {
   "cell_type": "code",
   "execution_count": null,
   "metadata": {},
   "outputs": [],
   "source": []
  },
  {
   "cell_type": "code",
   "execution_count": null,
   "metadata": {},
   "outputs": [],
   "source": [
    "print('학습을 시작합니다...')\n",
    "for epoch in range(epoch_num):\n",
    "    _, _loss = sess.run([train, loss], feed_dict={X: trainX, Y: trainY})\n",
    "    if ((epoch + 1) % 100 == 0) or (epoch == epoch_num - 1):  # 100번째마다 또는 마지막 epoch인 경우\n",
    "        # 학습용데이터로 accr오차를 구한다\n",
    "        train_predict = sess.run(hypothesis, feed_dict={X: trainX})\n",
    "#        train_error = sess.run(loss, feed_dict={X: trainY, Y: train_predict})\n",
    "        train_acc = sess.run(accr,feed_dict={X: trainX, Y: trainY})\n",
    "#        train_error_summary.append(train_error)\n",
    "        train_accr_summary.append(train__acc)\n",
    "        print(train_acc)\n",
    "\n",
    "        # 테스트용데이터로 rmse오차를 구한다\n",
    "        test_predict = sess.run(hypothesis, feed_dict={X: testX})\n",
    "#        test_error = sess.run(loss, feed_dict={X: testY, Y: test_predict})\n",
    "        test_acc = sess.run(accr,feed_dict={targets: testY, predictions: trest_predict})        \n",
    "#        test_error_summary.append(test_error)\n",
    "        test_accr_summary.append(test_error)\n",
    "\n",
    "        # 현재 오류를 출력한다\n",
    "        print(\"epoch: {}, train_accr(A): {}, test_accr(B): {}\".format(epoch + 1, train_acc, \n",
    "                                                                      test_acc))\n",
    "\n",
    "end_time = datetime.datetime.now()  # 종료시간을 기록한다\n",
    "elapsed_time = end_time - start_time  # 경과시간을 구한다\n",
    "print('elapsed_time:', elapsed_time)\n",
    "print('elapsed_time per epoch:', elapsed_time / epoch_num)\n"
   ]
  },
  {
   "cell_type": "code",
   "execution_count": null,
   "metadata": {},
   "outputs": [],
   "source": [
    "trainY.shape"
   ]
  },
  {
   "cell_type": "code",
   "execution_count": null,
   "metadata": {},
   "outputs": [],
   "source": [
    "train_predict.shape"
   ]
  },
  {
   "cell_type": "code",
   "execution_count": null,
   "metadata": {},
   "outputs": [],
   "source": []
  },
  {
   "cell_type": "code",
   "execution_count": null,
   "metadata": {},
   "outputs": [],
   "source": []
  }
 ],
 "metadata": {
  "kernelspec": {
   "display_name": "Python 3",
   "language": "python",
   "name": "python3"
  },
  "language_info": {
   "codemirror_mode": {
    "name": "ipython",
    "version": 3
   },
   "file_extension": ".py",
   "mimetype": "text/x-python",
   "name": "python",
   "nbconvert_exporter": "python",
   "pygments_lexer": "ipython3",
   "version": "3.7.4"
  }
 },
 "nbformat": 4,
 "nbformat_minor": 2
}
