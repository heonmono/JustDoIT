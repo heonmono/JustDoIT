{
 "cells": [
  {
   "cell_type": "markdown",
   "metadata": {},
   "source": [
    "# 👊 CHAPTER 1 한눈에 보는 Machine Learning\n",
    "\n",
    "#### 🙋 Chapter Manager : 장승준"
   ]
  },
  {
   "cell_type": "markdown",
   "metadata": {},
   "source": [
    "## 👊 Machine Learning    \n",
    "           \n",
    "    𝐎 정의 \n",
    "      - (일반적) 명시적인 프로그래밍 없이 컴퓨터가 학습하는 능력을 갖추게 하는 연구분야\n",
    "      - (공학적) 어떤 작업 T에 대한 컴퓨터 프로그램의 성능을 P로 측정했을 때 경험 E로 인해 성능이 향상됐다면, \n",
    "        이 컴퓨터 프로그램은 작업T(주어진 업무)와 성능 측정P(정확도 등)에 대해 경험 E(훈련 데이터)로 학습한 것\n",
    "   𝐎 사용 이유 \n",
    "      - 기존 Solution으로는 많은 수동 조정과 규칙이 필요한 문제\n",
    "      - 전통적인 방식으로는 전혀 해결 방법이 없는 복잡한 문제\n",
    "      - 유동적인 환경\n",
    "      - 복잡한 문제와 대량의 데이터에서 insight 도출\n",
    "   𝐎 종류\n",
    "      - 지도 OR 비지도 OR 준지도 OR 강화학습 : 사람의 감독 하에 훈련하는 것인지 그렇지 않은 것인지 \n",
    "      - 온라인학습 OR 배치학습 : 실시간으로 점진적인 학습을 하는지 아닌지\n",
    "      - 사례기반학습 OR 모델기반학습 : 단순하게 알고있는 데이터포인트와 새 데이터 포인트를 비교하는 것인지 아니면 \n",
    "        훈련 데이터셋에서 과학자들처럼 패턴을 발견하여 예측모델을 만드는지\n",
    "      ※ - 내에서는 배타적이며 각 –끼리는 배타적이지 않음\n",
    "         ex) 지도, 온라인, 사례기반 학습 => O /  지도, 비지도, 온라인, 배치, 사례기반 학습 => O  \n",
    "\n",
    "## 👊 Machine Learning 종류에 대한 설명   \n",
    "          \n",
    "    𝐎 사람의 감독 하에 훈련하는 것인지 그렇지 않은 것인지   \n",
    "      - 지도학습 : 알고리즘에 주입하는 훈련 데이터에 label이라는 원하는 답이 있어 그것을 토대로 알고리즘을 학습하는 과정\n",
    "\tex) Classification, Regression : K-Nearest Neighbors, Linear Regression, Logistic Regression,\n",
    "        Support Vector Machine, Decision Tree, Random Forest, Neural Network\n",
    "      - 비지도학습 : 알고리즘에 주입하는 훈련 데이터에 label이라는 원하는 답이 없이 학습하는 과정 (이상치 탐지에 효과적)\n",
    "        ex) Clustering, Dimensionality Reduction : K-Means, Hierarchical Cluster Analysis, Expectation Maximization, \n",
    "            PCA(Principal Component Analysis), Kernel PCA, Locally-Linear Embedding(지역적 선형 임베딩, LLE), \n",
    "            t-distributed Stochastic Neighbor Embedding(t – SNE), Associaition Rule Learning(Apriori, Eclat)\n",
    "\n",
    "      - 준지도학습 : 지도학습과 비지도학습의 조합이 된 경우\n",
    "         ex) 구글 포토 호스팅, 심층 신뢰 신경망(Deep Belief Network, 비지도학습인 Restricted Boltzmann Machine을 \n",
    "             기초하여 훈련이 되고 지도학습 방식으로 세밀하게 조정이 되는 Algorithm)\n",
    "      - 강화학습 : 학습하는 system을 Agent라고 부르며 환경을 관찰해서 행동을 실행하고 그 결과로 reward OR penalty를 받은 후 \n",
    "        가장 큰 reward를 얻기 위해 최상의 전략인 정책을 스스로 학습 (정책은 주어진 상황에서　Agent가 어떤 행동을 선택해야할지 정의) \n",
    "    \n",
    "    𝐎 실시간으로 점진적인 학습을 하는지 아닌지\n",
    "      - 배치학습 : 가용한 데이터를 모두 사용해 훈련을 시키는 Algorithm, 일반적으로 시간과 자원을 많이 소모하므로 오프라인에서 수행됨\n",
    "      - 온라인학습 : 데이터를 순차적으로 한 개씩 또는 미니배치라 부르는 작은 묶음 단위로 주입하여 시스템을 훈련 시키는 Algorithm, \n",
    "                     매 학습 단계가 빠르고 비용이 적게들어 시스템은 데이터가 도착하는 대로 즉시 학습할 수 있음. 연속적으로 데이터를 \n",
    "                     받고 빠른 변화에 스스로 적응해야하는 시스템에 적합함.\n",
    "         => 중요 파라미터 : 변화하는 데이터에 얼마나 빠르게 적을 할 것 인지? Learning Rate\n",
    "                           Learning Rate가 높으면 빠르게 적응하지만 예전 데이터를 금방 잊음\n",
    "                           Learning Rate가 낮으면 시스템의 관성이 커져 느리게 학습이 됨  \n",
    "                           (새로운 데이터에 있는 잡음이나 대표성 없는 데이터 포인트에 덜 민감해짐)\n",
    "    \n",
    "    𝐎 알고있는 데이터포인트와 새 데이터 포인트를 비교하는 것 OR 훈련 데이터셋에서 과학자들처럼 패턴을 발견하여 예측모델을 만드는 것\n",
    "      - 사례기반학습 : 데이터들을 기억하며 그것을 토대로 유사도 측정을 통해 분류(예측)\n",
    "      - 모델기반학습 : 데이터들을 이용하여 모델을 만들어 분류(예측) ex) 선형회귀모델\n",
    "\n",
    "## 👊 Machine Learning Data에 중요 부분   \n",
    "          \n",
    "    𝐎 Data가 가져야하는 특징  \n",
    "      - 대표성\n",
    "      - Sampling Noise(샘플이 작을 경우), Sampling Bias(샘플이 큰데 잘못된 표본 추출 경우) 방지\n",
    "      - 낮지 않은 품질\n",
    "      - 관련성\n",
    "      - Overfitting, Underfitting 방지"
   ]
  },
  {
   "cell_type": "markdown",
   "metadata": {},
   "source": [
    "# 👊 CHAPTER 2 Machine Learning Project 처음부터 끝까지\n",
    "\n",
    "#### 🙋 Chapter Manager : 장승준"
   ]
  },
  {
   "cell_type": "markdown",
   "metadata": {},
   "source": [
    "## 👊 Machine Learning Project  \n",
    "  \n",
    "    𝐎 단계 \n",
    "      - 큰 그림을 보고 데이터를 구함\n",
    "      - 데이터로부터 insight 도출 위해 EDA 실시\n",
    "      - Machine Learnin Algorithm을 위해 Data 전처리\n",
    "      - Model을 선택하고 훈련\n",
    "      - Model을 상세하게 조정\n",
    "      - Solution을 제시\n",
    "      - System을 launching하고 monitoring 후 유지보수\n",
    "\n",
    "     𝐎 단계별 설명\n",
    "      - 큰그림 : 문제정의를 매우 정확히 해야함.\n",
    "      - 데이터 : 대표성, Sampling Noise(샘플이 작을 경우), Sampling Bias(샘플이 큰데 잘못된 표본 추출 경우) 방지, \n",
    "                 낮지 않은 품질, 관련성, Overfitting, Underfitting 방지\n",
    "      - EDA : 데이터들로부터 알 수 있는 모든 부분을 끄집어 내야함\n",
    "      - Modeling : 데이터와 목적에 알맞은 Model을 선택 및 훈련 후 평가하며 수정해야함\n",
    "      - Solution :  목적에 알맞은 현실적인(예산, 시간, 데이터 수급 등) 해결책을 제시.\n",
    "      - System을 launching하고 monitoring 후 유지보수\n"
   ]
  }
 ],
 "metadata": {
  "kernelspec": {
   "display_name": "Python 3",
   "language": "python",
   "name": "python3"
  },
  "language_info": {
   "codemirror_mode": {
    "name": "ipython",
    "version": 3
   },
   "file_extension": ".py",
   "mimetype": "text/x-python",
   "name": "python",
   "nbconvert_exporter": "python",
   "pygments_lexer": "ipython3",
   "version": "3.7.4"
  }
 },
 "nbformat": 4,
 "nbformat_minor": 2
}
