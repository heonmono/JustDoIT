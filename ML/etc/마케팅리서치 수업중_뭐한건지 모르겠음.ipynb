{
 "cells": [
  {
   "cell_type": "code",
   "execution_count": 2,
   "metadata": {},
   "outputs": [],
   "source": [
    "# install package\n",
    "import pandas as pd\n",
    "import numpy as np\n"
   ]
  },
  {
   "cell_type": "code",
   "execution_count": 4,
   "metadata": {},
   "outputs": [],
   "source": [
    "# road data\n",
    "#df = pd.read_csv(R\"C:\\Users\\heon1\\Desktop\\marketing\\Tourist_Survey_tableau.csv\", encoding='UTF-8')\n",
    "df = pd.read_csv(R\"C:\\Users\\heon1\\Desktop\\trip_character.csv\", encoding='UTF-8')\n"
   ]
  },
  {
   "cell_type": "code",
   "execution_count": 9,
   "metadata": {},
   "outputs": [
    {
     "name": "stdout",
     "output_type": "stream",
     "text": [
      "Index(['average_daily_expense', 'inportant_information1', 'reason1',\n",
      "       'activity1', 'accommodation1', 'item1', 'total_length_of_stay',\n",
      "       'reservation_period', 'place_visit_num'],\n",
      "      dtype='object')\n",
      "(16469, 9)\n",
      "average_daily_expense     10643\n",
      "inportant_information1       11\n",
      "reason1                       5\n",
      "activity1                    21\n",
      "accommodation1                8\n",
      "item1                        13\n",
      "total_length_of_stay         90\n",
      "reservation_period            7\n",
      "place_visit_num              12\n",
      "dtype: int64\n",
      "average_daily_expense     object\n",
      "inportant_information1    object\n",
      "reason1                   object\n",
      "activity1                 object\n",
      "accommodation1            object\n",
      "item1                     object\n",
      "total_length_of_stay       int64\n",
      "reservation_period        object\n",
      "place_visit_num            int64\n",
      "dtype: object\n"
     ]
    }
   ],
   "source": [
    "print(df.columns)\n",
    "print(df.shape)\n",
    "print(df.nunique())\n",
    "print(df.dtypes)"
   ]
  },
  {
   "cell_type": "code",
   "execution_count": 39,
   "metadata": {},
   "outputs": [],
   "source": [
    "df.loc[df[df.columns[0]] == \"#NULL!\"].index\n",
    "df = df.drop(df.loc[df[df.columns[0]] == \"#NULL!\"].index, axis= 0)\n",
    "df.shape\n",
    "df[df.columns[0]] = pd.to_numeric(df[df.columns[0]])\n",
    "#df.loc[40]\n",
    "#df.count()\n",
    "#df"
   ]
  },
  {
   "cell_type": "code",
   "execution_count": null,
   "metadata": {},
   "outputs": [],
   "source": []
  },
  {
   "cell_type": "code",
   "execution_count": 40,
   "metadata": {},
   "outputs": [
    {
     "data": {
      "text/plain": [
       "Index(['total_length_of_stay', 'place_visit_num',\n",
       "       'inportant_information1_Did not get information',\n",
       "       'inportant_information1_Global website/apps',\n",
       "       'inportant_information1_Homeland Korean public organizations',\n",
       "       'inportant_information1_Korea-related websites/apps',\n",
       "       'inportant_information1_Major media (TV, radio, newspaper, magazine, etc.)',\n",
       "       'inportant_information1_Other',\n",
       "       'inportant_information1_Relatives, friends, colleagues',\n",
       "       'inportant_information1_Travel agency in home country (offline)',\n",
       "       'inportant_information1_Travel guide book',\n",
       "       'inportant_information1_Websites/apps in home country',\n",
       "       'reason1_Education(language programs, training, etc.)',\n",
       "       'reason1_Leisure, amusement, relaxation', 'reason1_Other',\n",
       "       'reason1_Religion and pilgrimage', 'activity1_Beauty tourism',\n",
       "       'activity1_Business activites (meeting, conferences, exhibitions)',\n",
       "       'activity1_City tour bus ride', 'activity1_Enjoy the natural landscape',\n",
       "       'activity1_Entertainment (casino, nightlife)',\n",
       "       'activity1_Gourmet tours',\n",
       "       'activity1_Inspection (industrial facilities)',\n",
       "       'activity1_Leisure sports', 'activity1_Medical tourism', 'activity1_No',\n",
       "       'activity1_Other', 'activity1_Recreation, relaxation (resort)',\n",
       "       'activity1_Shopping', 'activity1_Sports',\n",
       "       'activity1_Traditional culture experience',\n",
       "       'activity1_Training, education, research',\n",
       "       'activity1_Visit drama/movie filming locations',\n",
       "       'activity1_Visit museums/exhibition',\n",
       "       'activity1_Visit palaces and historic sites',\n",
       "       'activity1_Watch and participate in performances, folk events, festivals',\n",
       "       'accommodation1_Guest House/Hostel',\n",
       "       'accommodation1_Homestay, Accommodation (Airbnb, etc.)',\n",
       "       'accommodation1_Hotel', 'accommodation1_Motel/Inn',\n",
       "       'accommodation1_Other', 'accommodation1_Relative's or Friend's House',\n",
       "       'accommodation1_School/Company Dormitory, Training Facility',\n",
       "       'item1_Cigarettes', 'item1_Clothing', 'item1_Did not shop',\n",
       "       'item1_Ginseng, Medicinal Herbs',\n",
       "       'item1_Grocery (kimchi, seaweed, snacks, etc.)',\n",
       "       'item1_Jewelry/Accessories', 'item1_Liquor', 'item1_Other',\n",
       "       'item1_Perfume, Cosmetics', 'item1_Products related to Hallyu stars',\n",
       "       'item1_Shoes',\n",
       "       'item1_Traditional craftwok, Lacquerware, Woodcarving Products',\n",
       "       'reservation_period_1-2 weeks before departure',\n",
       "       'reservation_period_3-4 weeks before departure',\n",
       "       'reservation_period_3-6 months before departure',\n",
       "       'reservation_period_6-12 months before departure',\n",
       "       'reservation_period_Other',\n",
       "       'reservation_period_Within 1 week before departure'],\n",
       "      dtype='object')"
      ]
     },
     "execution_count": 40,
     "metadata": {},
     "output_type": "execute_result"
    }
   ],
   "source": [
    "df.columns[1:]"
   ]
  },
  {
   "cell_type": "code",
   "execution_count": 32,
   "metadata": {},
   "outputs": [
    {
     "data": {
      "text/plain": [
       "Index(['total_length_of_stay', 'place_visit_num',\n",
       "       'inportant_information1_Did not get information',\n",
       "       'inportant_information1_Global website/apps',\n",
       "       'inportant_information1_Homeland Korean public organizations',\n",
       "       'inportant_information1_Korea-related websites/apps',\n",
       "       'inportant_information1_Major media (TV, radio, newspaper, magazine, etc.)',\n",
       "       'inportant_information1_Other',\n",
       "       'inportant_information1_Relatives, friends, colleagues',\n",
       "       'inportant_information1_Travel agency in home country (offline)',\n",
       "       'inportant_information1_Travel guide book',\n",
       "       'inportant_information1_Websites/apps in home country',\n",
       "       'reason1_Education(language programs, training, etc.)',\n",
       "       'reason1_Leisure, amusement, relaxation', 'reason1_Other',\n",
       "       'reason1_Religion and pilgrimage', 'activity1_Beauty tourism',\n",
       "       'activity1_Business activites (meeting, conferences, exhibitions)',\n",
       "       'activity1_City tour bus ride', 'activity1_Enjoy the natural landscape',\n",
       "       'activity1_Entertainment (casino, nightlife)',\n",
       "       'activity1_Gourmet tours',\n",
       "       'activity1_Inspection (industrial facilities)',\n",
       "       'activity1_Leisure sports', 'activity1_Medical tourism', 'activity1_No',\n",
       "       'activity1_Other', 'activity1_Recreation, relaxation (resort)',\n",
       "       'activity1_Shopping', 'activity1_Sports',\n",
       "       'activity1_Traditional culture experience',\n",
       "       'activity1_Training, education, research',\n",
       "       'activity1_Visit drama/movie filming locations',\n",
       "       'activity1_Visit museums/exhibition',\n",
       "       'activity1_Visit palaces and historic sites',\n",
       "       'activity1_Watch and participate in performances, folk events, festivals',\n",
       "       'accommodation1_Guest House/Hostel',\n",
       "       'accommodation1_Homestay, Accommodation (Airbnb, etc.)',\n",
       "       'accommodation1_Hotel', 'accommodation1_Motel/Inn',\n",
       "       'accommodation1_Other', 'accommodation1_Relative's or Friend's House',\n",
       "       'accommodation1_School/Company Dormitory, Training Facility',\n",
       "       'item1_Cigarettes', 'item1_Clothing', 'item1_Did not shop',\n",
       "       'item1_Ginseng, Medicinal Herbs',\n",
       "       'item1_Grocery (kimchi, seaweed, snacks, etc.)',\n",
       "       'item1_Jewelry/Accessories', 'item1_Liquor', 'item1_Other',\n",
       "       'item1_Perfume, Cosmetics', 'item1_Products related to Hallyu stars',\n",
       "       'item1_Shoes',\n",
       "       'item1_Traditional craftwok, Lacquerware, Woodcarving Products',\n",
       "       'reservation_period_1-2 weeks before departure',\n",
       "       'reservation_period_3-4 weeks before departure',\n",
       "       'reservation_period_3-6 months before departure',\n",
       "       'reservation_period_6-12 months before departure',\n",
       "       'reservation_period_Other',\n",
       "       'reservation_period_Within 1 week before departure'],\n",
       "      dtype='object')"
      ]
     },
     "execution_count": 32,
     "metadata": {},
     "output_type": "execute_result"
    }
   ],
   "source": [
    "df_dum  = pd.get_dummies(df[df.columns[1:]], drop_first=True)\n",
    "df_dum.shape\n",
    "df_dum.columns\n"
   ]
  },
  {
   "cell_type": "code",
   "execution_count": 41,
   "metadata": {},
   "outputs": [],
   "source": [
    "df.drop(df.columns[1:], axis=1, inplace=True)\n",
    "df =pd.merge(df, df_dum, left_index=True, right_index=True, how='outer')"
   ]
  },
  {
   "cell_type": "code",
   "execution_count": 42,
   "metadata": {},
   "outputs": [
    {
     "data": {
      "text/plain": [
       "0    384.54\n",
       "1    174.46\n",
       "2    288.23\n",
       "Name: average_daily_expense, dtype: float64"
      ]
     },
     "execution_count": 42,
     "metadata": {},
     "output_type": "execute_result"
    }
   ],
   "source": [
    "df_y = df[df.columns[0]]\n",
    "df_y.head(3)"
   ]
  },
  {
   "cell_type": "code",
   "execution_count": 50,
   "metadata": {},
   "outputs": [],
   "source": [
    "#tmp =(max(df_y) - df_y) /(max(df_y)- min(df_y))\n",
    "tmp =(df_y - np.mean(df_y))/np.std(df_y)\n",
    "#tmp.describe()\n",
    "df_y = tmp"
   ]
  },
  {
   "cell_type": "code",
   "execution_count": 44,
   "metadata": {},
   "outputs": [
    {
     "data": {
      "text/plain": [
       "Index(['total_length_of_stay', 'place_visit_num',\n",
       "       'inportant_information1_Did not get information',\n",
       "       'inportant_information1_Global website/apps',\n",
       "       'inportant_information1_Homeland Korean public organizations',\n",
       "       'inportant_information1_Korea-related websites/apps',\n",
       "       'inportant_information1_Major media (TV, radio, newspaper, magazine, etc.)',\n",
       "       'inportant_information1_Other',\n",
       "       'inportant_information1_Relatives, friends, colleagues',\n",
       "       'inportant_information1_Travel agency in home country (offline)',\n",
       "       'inportant_information1_Travel guide book',\n",
       "       'inportant_information1_Websites/apps in home country',\n",
       "       'reason1_Education(language programs, training, etc.)',\n",
       "       'reason1_Leisure, amusement, relaxation', 'reason1_Other',\n",
       "       'reason1_Religion and pilgrimage', 'activity1_Beauty tourism',\n",
       "       'activity1_Business activites (meeting, conferences, exhibitions)',\n",
       "       'activity1_City tour bus ride', 'activity1_Enjoy the natural landscape',\n",
       "       'activity1_Entertainment (casino, nightlife)',\n",
       "       'activity1_Gourmet tours',\n",
       "       'activity1_Inspection (industrial facilities)',\n",
       "       'activity1_Leisure sports', 'activity1_Medical tourism', 'activity1_No',\n",
       "       'activity1_Other', 'activity1_Recreation, relaxation (resort)',\n",
       "       'activity1_Shopping', 'activity1_Sports',\n",
       "       'activity1_Traditional culture experience',\n",
       "       'activity1_Training, education, research',\n",
       "       'activity1_Visit drama/movie filming locations',\n",
       "       'activity1_Visit museums/exhibition',\n",
       "       'activity1_Visit palaces and historic sites',\n",
       "       'activity1_Watch and participate in performances, folk events, festivals',\n",
       "       'accommodation1_Guest House/Hostel',\n",
       "       'accommodation1_Homestay, Accommodation (Airbnb, etc.)',\n",
       "       'accommodation1_Hotel', 'accommodation1_Motel/Inn',\n",
       "       'accommodation1_Other', 'accommodation1_Relative's or Friend's House',\n",
       "       'accommodation1_School/Company Dormitory, Training Facility',\n",
       "       'item1_Cigarettes', 'item1_Clothing', 'item1_Did not shop',\n",
       "       'item1_Ginseng, Medicinal Herbs',\n",
       "       'item1_Grocery (kimchi, seaweed, snacks, etc.)',\n",
       "       'item1_Jewelry/Accessories', 'item1_Liquor', 'item1_Other',\n",
       "       'item1_Perfume, Cosmetics', 'item1_Products related to Hallyu stars',\n",
       "       'item1_Shoes',\n",
       "       'item1_Traditional craftwok, Lacquerware, Woodcarving Products',\n",
       "       'reservation_period_1-2 weeks before departure',\n",
       "       'reservation_period_3-4 weeks before departure',\n",
       "       'reservation_period_3-6 months before departure',\n",
       "       'reservation_period_6-12 months before departure',\n",
       "       'reservation_period_Other',\n",
       "       'reservation_period_Within 1 week before departure'],\n",
       "      dtype='object')"
      ]
     },
     "execution_count": 44,
     "metadata": {},
     "output_type": "execute_result"
    }
   ],
   "source": [
    "df.drop(df.columns[0], axis=1, inplace = True)\n",
    "#df = pd.merge(df_y, df, how = 'outer', left_index=True, right_index=True)\n",
    "df.columns"
   ]
  },
  {
   "cell_type": "code",
   "execution_count": 45,
   "metadata": {},
   "outputs": [],
   "source": [
    "from sklearn.linear_model import LinearRegression\n",
    "from sklearn.metrics import r2_score, accuracy_score, mean_squared_error\n",
    "import statsmodels\n",
    "import statsmodels.api as sm\n",
    "import statsmodels.formula.api as smf"
   ]
  },
  {
   "cell_type": "code",
   "execution_count": 46,
   "metadata": {},
   "outputs": [
    {
     "data": {
      "text/plain": [
       "Index(['total_length_of_stay', 'place_visit_num',\n",
       "       'inportant_information1_Did not get information',\n",
       "       'inportant_information1_Global website/apps',\n",
       "       'inportant_information1_Homeland Korean public organizations',\n",
       "       'inportant_information1_Korea-related websites/apps',\n",
       "       'inportant_information1_Major media (TV, radio, newspaper, magazine, etc.)',\n",
       "       'inportant_information1_Other',\n",
       "       'inportant_information1_Relatives, friends, colleagues',\n",
       "       'inportant_information1_Travel agency in home country (offline)',\n",
       "       'inportant_information1_Travel guide book',\n",
       "       'inportant_information1_Websites/apps in home country',\n",
       "       'reason1_Education(language programs, training, etc.)',\n",
       "       'reason1_Leisure, amusement, relaxation', 'reason1_Other',\n",
       "       'reason1_Religion and pilgrimage', 'activity1_Beauty tourism',\n",
       "       'activity1_Business activites (meeting, conferences, exhibitions)',\n",
       "       'activity1_City tour bus ride', 'activity1_Enjoy the natural landscape',\n",
       "       'activity1_Entertainment (casino, nightlife)',\n",
       "       'activity1_Gourmet tours',\n",
       "       'activity1_Inspection (industrial facilities)',\n",
       "       'activity1_Leisure sports', 'activity1_Medical tourism', 'activity1_No',\n",
       "       'activity1_Other', 'activity1_Recreation, relaxation (resort)',\n",
       "       'activity1_Shopping', 'activity1_Sports',\n",
       "       'activity1_Traditional culture experience',\n",
       "       'activity1_Training, education, research',\n",
       "       'activity1_Visit drama/movie filming locations',\n",
       "       'activity1_Visit museums/exhibition',\n",
       "       'activity1_Visit palaces and historic sites',\n",
       "       'activity1_Watch and participate in performances, folk events, festivals',\n",
       "       'accommodation1_Guest House/Hostel',\n",
       "       'accommodation1_Homestay, Accommodation (Airbnb, etc.)',\n",
       "       'accommodation1_Hotel', 'accommodation1_Motel/Inn',\n",
       "       'accommodation1_Other', 'accommodation1_Relative's or Friend's House',\n",
       "       'accommodation1_School/Company Dormitory, Training Facility',\n",
       "       'item1_Cigarettes', 'item1_Clothing', 'item1_Did not shop',\n",
       "       'item1_Ginseng, Medicinal Herbs',\n",
       "       'item1_Grocery (kimchi, seaweed, snacks, etc.)',\n",
       "       'item1_Jewelry/Accessories', 'item1_Liquor', 'item1_Other',\n",
       "       'item1_Perfume, Cosmetics', 'item1_Products related to Hallyu stars',\n",
       "       'item1_Shoes',\n",
       "       'item1_Traditional craftwok, Lacquerware, Woodcarving Products',\n",
       "       'reservation_period_1-2 weeks before departure',\n",
       "       'reservation_period_3-4 weeks before departure',\n",
       "       'reservation_period_3-6 months before departure',\n",
       "       'reservation_period_6-12 months before departure',\n",
       "       'reservation_period_Other',\n",
       "       'reservation_period_Within 1 week before departure'],\n",
       "      dtype='object')"
      ]
     },
     "execution_count": 46,
     "metadata": {},
     "output_type": "execute_result"
    }
   ],
   "source": [
    "reg = LinearRegression()\n",
    "model = sm.OLS( df_y, df)\n",
    "result = model.fit()\n",
    "result.summary()\n",
    "df.columns"
   ]
  },
  {
   "cell_type": "code",
   "execution_count": null,
   "metadata": {},
   "outputs": [],
   "source": []
  },
  {
   "cell_type": "code",
   "execution_count": 51,
   "metadata": {},
   "outputs": [
    {
     "data": {
      "text/plain": [
       "array([ 0.15453246,  0.1233034 , -0.07057265, ...,  0.15411973,\n",
       "        0.23128694, -0.11694446])"
      ]
     },
     "execution_count": 51,
     "metadata": {},
     "output_type": "execute_result"
    }
   ],
   "source": [
    "reg.fit(df, df_y)\n",
    "reg.predict(df)"
   ]
  },
  {
   "cell_type": "code",
   "execution_count": 52,
   "metadata": {},
   "outputs": [
    {
     "name": "stdout",
     "output_type": "stream",
     "text": [
      "0.14962959055348435\n",
      "0.8503704094465133\n"
     ]
    }
   ],
   "source": [
    "print(r2_score(df_y, reg.predict(df)))\n",
    "print(mean_squared_error(df_y, reg.predict(df)))"
   ]
  },
  {
   "cell_type": "code",
   "execution_count": null,
   "metadata": {},
   "outputs": [],
   "source": [
    "pd.to_csv"
   ]
  }
 ],
 "metadata": {
  "kernelspec": {
   "display_name": "Python 3",
   "language": "python",
   "name": "python3"
  },
  "language_info": {
   "codemirror_mode": {
    "name": "ipython",
    "version": 3
   },
   "file_extension": ".py",
   "mimetype": "text/x-python",
   "name": "python",
   "nbconvert_exporter": "python",
   "pygments_lexer": "ipython3",
   "version": "3.7.4"
  }
 },
 "nbformat": 4,
 "nbformat_minor": 2
}
