{
 "cells": [
  {
   "cell_type": "markdown",
   "metadata": {},
   "source": [
    "# 9장 텐서플로 시작하기"
   ]
  },
  {
   "cell_type": "markdown",
   "metadata": {},
   "source": [
    "텐서플로는 오픈소스 라이버리로 딥러닝에 매우 유용한 툴이다. \n",
    "딥러닝은 keras와 pytorch 등 다른 라이브러리가 존재하지만 가장 대중적이다.\n",
    "Tensorflow의 대표적인 자료형 tf.constant tf.variable tf.placeholder가 존재\n",
    "constant : 텐서플로우 변하지 않는 상수 생수\n",
    "varialble : 값이 바뀔 수도 있는 변수 생성\n",
    "placeholder : 일정 값을 받을 수 있게 만들어주는 그릇 생성"
   ]
  },
  {
   "cell_type": "code",
   "execution_count": 1,
   "metadata": {},
   "outputs": [
    {
     "data": {
      "text/plain": [
       "'1.14.0'"
      ]
     },
     "execution_count": 1,
     "metadata": {},
     "output_type": "execute_result"
    }
   ],
   "source": [
    "import tensorflow as tf\n",
    "tf.__version__"
   ]
  },
  {
   "cell_type": "code",
   "execution_count": 2,
   "metadata": {},
   "outputs": [],
   "source": [
    "x = tf.Variable(3, name = \"x\")\n",
    "y = tf.Variable(4, name = 'y')\n",
    "f = x*x*y + y+ 2 #실제로 어떤 연산도 되지 않음. sess으로 cpu혹은 gpu에 올려주어야함"
   ]
  },
  {
   "cell_type": "code",
   "execution_count": 3,
   "metadata": {},
   "outputs": [],
   "source": [
    "sess = tf.Session()\n",
    "sess.run(x.initializer)\n",
    "sess.run(y.initializer)\n",
    "result = sess.run(f)"
   ]
  },
  {
   "cell_type": "code",
   "execution_count": 4,
   "metadata": {},
   "outputs": [
    {
     "name": "stdout",
     "output_type": "stream",
     "text": [
      "42\n"
     ]
    }
   ],
   "source": [
    "print(result)"
   ]
  },
  {
   "cell_type": "code",
   "execution_count": 5,
   "metadata": {},
   "outputs": [],
   "source": [
    "sess.close()"
   ]
  },
  {
   "cell_type": "code",
   "execution_count": 6,
   "metadata": {},
   "outputs": [],
   "source": [
    "with tf.Session() as sess:\n",
    "    x.initializer.run()\n",
    "    y.initializer.run()\n",
    "    result = f.eval() # tf.get_default_session().run(f)를 하는것과 동일 # with블록 끝나면 session 자동 종료"
   ]
  },
  {
   "cell_type": "code",
   "execution_count": 7,
   "metadata": {},
   "outputs": [],
   "source": [
    "init = tf.global_variables_initializer() # 변수 초기화 일일이 하지 않고 계산 그래프가 실행될때 모든 변수 초기화할 노드 생성\n",
    "with tf.Session() as sess:\n",
    "    init.run() # 실제 모든 변수 초기화\n",
    "    result = f.eval() # with 없으면 수동 종료 필요"
   ]
  },
  {
   "cell_type": "code",
   "execution_count": 8,
   "metadata": {},
   "outputs": [
    {
     "name": "stdout",
     "output_type": "stream",
     "text": [
      "42\n"
     ]
    }
   ],
   "source": [
    "print(result)"
   ]
  },
  {
   "cell_type": "code",
   "execution_count": 9,
   "metadata": {},
   "outputs": [
    {
     "data": {
      "text/plain": [
       "True"
      ]
     },
     "execution_count": 9,
     "metadata": {},
     "output_type": "execute_result"
    }
   ],
   "source": [
    "# 9.3 계산 그래프 관리\n",
    "x1 = tf.Variable(1)\n",
    "x1.graph is tf.get_default_graph()"
   ]
  },
  {
   "cell_type": "code",
   "execution_count": 10,
   "metadata": {},
   "outputs": [],
   "source": [
    "# 독립된 연산을 하려면\n",
    "graph = tf.Graph()\n",
    "with graph.as_default():\n",
    "    x2 = tf.Variable(2)"
   ]
  },
  {
   "cell_type": "code",
   "execution_count": 11,
   "metadata": {},
   "outputs": [
    {
     "data": {
      "text/plain": [
       "True"
      ]
     },
     "execution_count": 11,
     "metadata": {},
     "output_type": "execute_result"
    }
   ],
   "source": [
    "x2.graph is graph"
   ]
  },
  {
   "cell_type": "code",
   "execution_count": 12,
   "metadata": {},
   "outputs": [
    {
     "data": {
      "text/plain": [
       "False"
      ]
     },
     "execution_count": 12,
     "metadata": {},
     "output_type": "execute_result"
    }
   ],
   "source": [
    "x2.graph is tf.get_default_graph()"
   ]
  },
  {
   "cell_type": "code",
   "execution_count": 13,
   "metadata": {},
   "outputs": [
    {
     "name": "stdout",
     "output_type": "stream",
     "text": [
      "10\n",
      "15\n"
     ]
    }
   ],
   "source": [
    "# 9.4노드 값의 생애주기\n",
    "w = tf.constant(3)\n",
    "x = w + 2\n",
    "y = x + 5\n",
    "z = x * 3\n",
    "\n",
    "with tf.Session() as sess:\n",
    "    print(y.eval())\n",
    "    print(z.eval()) # 2번 저장돼"
   ]
  },
  {
   "cell_type": "code",
   "execution_count": 14,
   "metadata": {},
   "outputs": [
    {
     "name": "stdout",
     "output_type": "stream",
     "text": [
      "10\n",
      "15\n"
     ]
    }
   ],
   "source": [
    "with tf.Session() as sess:\n",
    "    y_val, z_val = sess.run([y, z])\n",
    "    print(y_val)\n",
    "    print(z_val)"
   ]
  },
  {
   "cell_type": "code",
   "execution_count": 15,
   "metadata": {},
   "outputs": [],
   "source": [
    "# 9.5 텐서플로를 이용한 선형 회귀 - 정규방정식 이용\n",
    "import numpy as np\n",
    "from sklearn.datasets import fetch_california_housing"
   ]
  },
  {
   "cell_type": "code",
   "execution_count": 16,
   "metadata": {},
   "outputs": [],
   "source": [
    "housing = fetch_california_housing()\n",
    "m, n = housing.data.shape\n",
    "housing_data_plus_bias = np.c_[np.ones((m,1)), housing.data]"
   ]
  },
  {
   "cell_type": "code",
   "execution_count": 17,
   "metadata": {},
   "outputs": [],
   "source": [
    "X = tf.constant(housing_data_plus_bias, dtype = tf.float32, name = \"X\")\n",
    "y = tf.constant(housing.target.reshape(-1, 1), dtype = tf.float32, name=\"y\")\n",
    "XT = tf.transpose(X)"
   ]
  },
  {
   "cell_type": "code",
   "execution_count": 18,
   "metadata": {},
   "outputs": [
    {
     "name": "stdout",
     "output_type": "stream",
     "text": [
      "[[-3.74659576e+01]\n",
      " [ 4.35208052e-01]\n",
      " [ 9.34183039e-03]\n",
      " [-1.05619654e-01]\n",
      " [ 6.38267040e-01]\n",
      " [-4.28281601e-06]\n",
      " [-3.77140474e-03]\n",
      " [-4.26884502e-01]\n",
      " [-4.40567464e-01]]\n"
     ]
    }
   ],
   "source": [
    "theta = tf.matmul(tf.matmul(tf.matrix_inverse(tf.matmul(XT, X)),XT), y) \n",
    "\n",
    "with tf.Session() as sess:\n",
    "    theta_value = theta.eval()\n",
    "\n",
    "print(theta_value)"
   ]
  },
  {
   "cell_type": "markdown",
   "metadata": {},
   "source": [
    "9.6 경사하강법 구현"
   ]
  },
  {
   "cell_type": "code",
   "execution_count": 19,
   "metadata": {},
   "outputs": [],
   "source": [
    "from sklearn.preprocessing import StandardScaler # 경사하강법을 위해서는 정규화가 필요\n",
    "\n",
    "scaler = StandardScaler()\n",
    "scaled_housing_data = scaler.fit_transform(housing.data)\n",
    "scaled_housing_data_plus_bias = np.c_[np.ones((m, 1)), scaled_housing_data]"
   ]
  },
  {
   "cell_type": "code",
   "execution_count": 20,
   "metadata": {},
   "outputs": [
    {
     "name": "stdout",
     "output_type": "stream",
     "text": [
      "epoch: 000, MSE = 2.754426\n",
      "epoch: 100, MSE = 0.632222\n",
      "epoch: 200, MSE = 0.572780\n",
      "epoch: 300, MSE = 0.558501\n",
      "epoch: 400, MSE = 0.549070\n",
      "epoch: 500, MSE = 0.542288\n",
      "epoch: 600, MSE = 0.537379\n",
      "epoch: 700, MSE = 0.533822\n",
      "epoch: 800, MSE = 0.531242\n",
      "epoch: 900, MSE = 0.529370\n",
      "[[ 2.0685523e+00]\n",
      " [ 7.7407807e-01]\n",
      " [ 1.3119239e-01]\n",
      " [-1.1784514e-01]\n",
      " [ 1.6477820e-01]\n",
      " [ 7.4408232e-04]\n",
      " [-3.9194513e-02]\n",
      " [-8.6135650e-01]\n",
      " [-8.2347965e-01]]\n"
     ]
    }
   ],
   "source": [
    "#reset_graph()\n",
    "\n",
    "n_epochs = 1000\n",
    "learning_rate = 0.01\n",
    "\n",
    "X = tf.constant(scaled_housing_data_plus_bias, dtype=tf.float32, name=\"X\")\n",
    "y = tf.constant(housing.target.reshape(-1, 1), dtype=tf.float32, name='y')\n",
    "W = tf.Variable(tf.random_uniform([n + 1, 1], -1.0, 1.0, seed=42), name='W') # 기존 칼럼 + 상수\n",
    "\n",
    "y_pred = tf.matmul(X, W, name='predictions')  # y = wx + b\n",
    "error = y_pred - y\n",
    "mse = tf.reduce_mean(tf.square(error), name='mse')\n",
    "gradients = 2/m * tf.matmul(tf.transpose(X), error)\n",
    "training_op = tf.assign(W, W - learning_rate * gradients)\n",
    "\n",
    "init = tf.global_variables_initializer()\n",
    "\n",
    "with tf.Session() as sess:\n",
    "    sess.run(init)\n",
    "    \n",
    "    for epoch in range(n_epochs):\n",
    "        if epoch % 100 == 0:\n",
    "            print(\"epoch: {:03d}, MSE = {:.6f}\".format(epoch, mse.eval()))\n",
    "        sess.run(training_op)\n",
    "        \n",
    "    best_W = W.eval()  # sess.run(W)\n",
    "\n",
    "print(best_W)"
   ]
  },
  {
   "cell_type": "code",
   "execution_count": 21,
   "metadata": {},
   "outputs": [],
   "source": [
    "# 자동미분\n",
    "def my_func(a, b):\n",
    "    z = 0\n",
    "    for i in range(100):\n",
    "        z = a*np.cos(z+ i) + z * np.sin(b-i)\n",
    "        return z"
   ]
  },
  {
   "cell_type": "code",
   "execution_count": 22,
   "metadata": {},
   "outputs": [],
   "source": [
    "gradients = tf.gradients(mse, [theta])[0]\n",
    "gradients"
   ]
  },
  {
   "cell_type": "code",
   "execution_count": 23,
   "metadata": {},
   "outputs": [],
   "source": [
    "# 옵티마이저 사용\n",
    "optimizer = tf.train.GradientDescentOptimizer(learning_rate = learning_rate)\n",
    "training_op = optimizer.minimize(mse)"
   ]
  },
  {
   "cell_type": "markdown",
   "metadata": {},
   "source": [
    "9.7 훈련 알고리즘에 데이터 주입 "
   ]
  },
  {
   "cell_type": "code",
   "execution_count": 24,
   "metadata": {},
   "outputs": [
    {
     "name": "stdout",
     "output_type": "stream",
     "text": [
      "[[ 9. 10. 11.]\n",
      " [12. 13. 14.]]\n"
     ]
    }
   ],
   "source": [
    "# 미니배치 사용 #placeholder 사용 - 실제로 아무 계산도 하지 않는 특수 노드 훈련데이터 전달하기 위해 사용\n",
    "A = tf.placeholder(tf.float32, shape = (None, 3)) \n",
    "B = A + 5\n",
    "with tf.Session() as sess:\n",
    "    B_val_1 = B.eval(feed_dict = {A: [[1,2,3]]})\n",
    "    B_val_2 = B.eval(feed_dict = {A :[[4,5,6],[7,8,9]]})\n",
    "    \n",
    "print(B_val_2)"
   ]
  },
  {
   "cell_type": "code",
   "execution_count": 29,
   "metadata": {},
   "outputs": [],
   "source": [
    "\n",
    "# placeholder setting\n",
    "X = tf.placeholder(tf.float32, shape=(None, n + 1), name=\"X\")  # (None, 9)\n",
    "y = tf.placeholder(tf.float32, shape=(None, 1), name=\"y\")\n",
    "\n",
    "W = tf.Variable(tf.random_uniform([n + 1, 1], -1.0, 1.0, seed=42), name='W')\n",
    "\n",
    "y_pred = tf.matmul(X, W, name='predictions')  # y = wx + b\n",
    "error = y_pred - y\n",
    "mse = tf.reduce_mean(tf.square(error), name='mse')\n",
    "\n",
    "# optimizer\n",
    "optimizer = tf.train.GradientDescentOptimizer(learning_rate=learning_rate)\n",
    "training_op = optimizer.minimize(mse)\n"
   ]
  },
  {
   "cell_type": "code",
   "execution_count": 30,
   "metadata": {},
   "outputs": [],
   "source": [
    "################\n",
    "# hyper-params #\n",
    "################\n",
    "n_epochs = 10\n",
    "batch_size = 100\n",
    "n_batches = int(np.ceil(m / batch_size))  # (20640/100) 올림\n",
    "# mini-batch random sampling\n",
    "def fetch_batch(epoch, batch_index, batch_size):\n",
    "    \"\"\" epoch당 batch_size만큼 Random sampling 하는 메소드\n",
    "    \n",
    "    Args:\n",
    "        - epoch: training epoch\n",
    "        - batch_index: batch steps\n",
    "        - batch_size: batch size\n",
    "    \n",
    "    Returns:\n",
    "        - X_batch, y_batch: batch size만큼의 X, y 데이터셋\n",
    "    \"\"\"    \n",
    "    np.random.seed(epoch * n_batches + batch_index)\n",
    "    indices = np.random.randint(m, size=batch_size)\n",
    "    X_batch = scaled_housing_data_plus_bias[indices]\n",
    "    y_batch = housing.target.reshape(-1, 1)[indices]\n",
    "    return X_batch, y_batch\n"
   ]
  },
  {
   "cell_type": "code",
   "execution_count": 32,
   "metadata": {},
   "outputs": [
    {
     "name": "stdout",
     "output_type": "stream",
     "text": [
      "[[ 2.070016  ]\n",
      " [ 0.820456  ]\n",
      " [ 0.1173173 ]\n",
      " [-0.22739047]\n",
      " [ 0.31134018]\n",
      " [ 0.00353193]\n",
      " [-0.01126995]\n",
      " [-0.9164394 ]\n",
      " [-0.8795008 ]]\n"
     ]
    }
   ],
   "source": [
    "\n",
    "# Training\n",
    "init = tf.global_variables_initializer()\n",
    "with tf.Session() as sess:\n",
    "    sess.run(init)\n",
    "    \n",
    "    for epoch in range(n_epochs):\n",
    "        for batch_index in range(n_batches):\n",
    "            X_batch, y_batch = fetch_batch(epoch, batch_index, batch_size)\n",
    "            sess.run(training_op, feed_dict={X: X_batch, y: y_batch})\n",
    "            \n",
    "    best_W = W.eval()\n",
    "    \n",
    "print(best_W)"
   ]
  },
  {
   "cell_type": "markdown",
   "metadata": {},
   "source": [
    " 9.8 모델 저장과 복원"
   ]
  },
  {
   "cell_type": "code",
   "execution_count": 28,
   "metadata": {},
   "outputs": [
    {
     "name": "stdout",
     "output_type": "stream",
     "text": [
      "epoch: 000, MSE = 2.754426\n",
      "epoch: 100, MSE = 0.632222\n",
      "epoch: 200, MSE = 0.572780\n",
      "epoch: 300, MSE = 0.558501\n",
      "epoch: 400, MSE = 0.549070\n",
      "epoch: 500, MSE = 0.542288\n",
      "epoch: 600, MSE = 0.537379\n",
      "epoch: 700, MSE = 0.533822\n",
      "epoch: 800, MSE = 0.531242\n",
      "epoch: 900, MSE = 0.529370\n",
      "[[ 2.0685525e+00]\n",
      " [ 7.7407807e-01]\n",
      " [ 1.3119237e-01]\n",
      " [-1.1784511e-01]\n",
      " [ 1.6477817e-01]\n",
      " [ 7.4407971e-04]\n",
      " [-3.9194521e-02]\n",
      " [-8.6135668e-01]\n",
      " [-8.2347977e-01]]\n"
     ]
    }
   ],
   "source": [
    "n_epochs = 1000\n",
    "learning_rate = 0.01\n",
    "\n",
    "X = tf.constant(scaled_housing_data_plus_bias, dtype=tf.float32, name=\"X\")\n",
    "y = tf.constant(housing.target.reshape(-1, 1), dtype=tf.float32, name='y')\n",
    "W = tf.Variable(tf.random_uniform([n + 1, 1], -1.0, 1.0, seed=42), name='W')\n",
    "\n",
    "y_pred = tf.matmul(X, W, name='predictions')  # y = wx + b\n",
    "error = y_pred - y\n",
    "\n",
    "# loss function\n",
    "mse = tf.reduce_mean(tf.square(error), name='mse')\n",
    "# optimizer\n",
    "optimizer = tf.train.GradientDescentOptimizer(learning_rate=learning_rate)\n",
    "training_op = optimizer.minimize(mse)\n",
    "\n",
    "init = tf.global_variables_initializer()\n",
    "saver = tf.train.Saver(max_to_keep=3)\n",
    "tf.add_to_collection('weight', W)\n",
    "\n",
    "with tf.Session() as sess:\n",
    "    sess.run(init)\n",
    "    \n",
    "    for epoch in range(n_epochs):\n",
    "        if epoch % 100 == 0:\n",
    "            print(\"epoch: {:03d}, MSE = {:.6f}\".format(epoch, mse.eval()))\n",
    "            save_path = saver.save(sess, './model/my_model.ckpt')\n",
    "        sess.run(training_op)\n",
    "        \n",
    "    best_W = W.eval()  # sess.run(W)\n",
    "    save_path = saver.save(sess, \"./model/my_model_final.ckpt\")\n",
    "\n",
    "print(best_W)"
   ]
  },
  {
   "cell_type": "code",
   "execution_count": 35,
   "metadata": {},
   "outputs": [
    {
     "name": "stdout",
     "output_type": "stream",
     "text": [
      "epoch: 000, MSE = 2.754426\n",
      "epoch: 100, MSE = 0.632222\n",
      "epoch: 200, MSE = 0.572780\n",
      "epoch: 300, MSE = 0.558501\n",
      "epoch: 400, MSE = 0.549070\n",
      "epoch: 500, MSE = 0.542288\n",
      "epoch: 600, MSE = 0.537379\n",
      "epoch: 700, MSE = 0.533822\n",
      "epoch: 800, MSE = 0.531242\n",
      "epoch: 900, MSE = 0.529370\n",
      "[[ 2.0685525e+00]\n",
      " [ 7.7407807e-01]\n",
      " [ 1.3119237e-01]\n",
      " [-1.1784511e-01]\n",
      " [ 1.6477817e-01]\n",
      " [ 7.4407971e-04]\n",
      " [-3.9194521e-02]\n",
      " [-8.6135668e-01]\n",
      " [-8.2347977e-01]]\n"
     ]
    }
   ],
   "source": [
    "# 9.8 모델 저장과 복원 : 모델을 훈련시키면 다시 쓸수 있도록 파라미터 저장\n",
    "n_epochs = 1000\n",
    "learning_rate = 0.01\n",
    "\n",
    "X = tf.constant(scaled_housing_data_plus_bias, dtype=tf.float32, name=\"X\")\n",
    "y = tf.constant(housing.target.reshape(-1, 1), dtype=tf.float32, name='y')\n",
    "W = tf.Variable(tf.random_uniform([n + 1, 1], -1.0, 1.0, seed=42), name='W')\n",
    "\n",
    "y_pred = tf.matmul(X, W, name='predictions')  # y = wx + b\n",
    "error = y_pred - y\n",
    "\n",
    "# loss function\n",
    "mse = tf.reduce_mean(tf.square(error), name='mse')\n",
    "# optimizer\n",
    "optimizer = tf.train.GradientDescentOptimizer(learning_rate=learning_rate)\n",
    "training_op = optimizer.minimize(mse)\n",
    "\n",
    "init = tf.global_variables_initializer()\n",
    "saver = tf.train.Saver(max_to_keep=3)\n",
    "tf.add_to_collection('weight', W)\n",
    "\n",
    "with tf.Session() as sess:\n",
    "    sess.run(init)\n",
    "    \n",
    "    for epoch in range(n_epochs):\n",
    "        if epoch % 100 == 0:\n",
    "            print(\"epoch: {:03d}, MSE = {:.6f}\".format(epoch, mse.eval()))\n",
    "            save_path = saver.save(sess, './model/my_model.ckpt')\n",
    "        sess.run(training_op)\n",
    "        \n",
    "    best_W = W.eval()  # sess.run(W)\n",
    "    save_path = saver.save(sess, \"./model/my_model_final.ckpt\")\n",
    "\n",
    "print(best_W)"
   ]
  },
  {
   "cell_type": "code",
   "execution_count": 36,
   "metadata": {},
   "outputs": [
    {
     "name": "stdout",
     "output_type": "stream",
     "text": [
      "WARNING:tensorflow:From C:\\Users\\heon1\\Anaconda3\\lib\\site-packages\\tensorflow\\python\\training\\saver.py:1276: checkpoint_exists (from tensorflow.python.training.checkpoint_management) is deprecated and will be removed in a future version.\n",
      "Instructions for updating:\n",
      "Use standard file APIs to check for files with this prefix.\n",
      "INFO:tensorflow:Restoring parameters from ./model/my_model_final.ckpt\n",
      "False\n"
     ]
    }
   ],
   "source": [
    "with tf.Session() as sess:\n",
    "    saver.restore(sess, './model/my_model_final.ckpt')\n",
    "    best_W_restored = tf.get_collection('weight')[0]\n",
    "    best_W_restored = best_W_restored.eval()\n",
    "    \n",
    "# compare element-wise equal or not\n",
    "print(np.allclose(best_W, best_W_restored))  # True"
   ]
  },
  {
   "cell_type": "markdown",
   "metadata": {},
   "source": [
    " 9.9 텐서보드로 그래프와 학습 곡선 시각화 하기"
   ]
  },
  {
   "cell_type": "code",
   "execution_count": null,
   "metadata": {},
   "outputs": [],
   "source": [
    "# 실행이 안됨 - ValueError: Duplicate plugins for name projector\n",
    "# - tensorflow랑 tensorboard version이 안맞아서. \n",
    "#pip uninstall tensorboard\n",
    "#pip install 버전맞게 다운"
   ]
  },
  {
   "cell_type": "code",
   "execution_count": 41,
   "metadata": {},
   "outputs": [],
   "source": [
    "from datetime import datetime\n",
    "\n",
    "now = datetime.utcnow().strftime(\"%Y%m%d%H%M%S\")\n",
    "root_logdir = \"tf_logs\"\n",
    "logdir = \"{}/run-{}/\".format(root_logdir, now)"
   ]
  },
  {
   "cell_type": "code",
   "execution_count": 42,
   "metadata": {},
   "outputs": [],
   "source": [
    "# placeholder setting\n",
    "X = tf.placeholder(tf.float32, shape=(None, n + 1), name=\"X\")  # (None, 9)\n",
    "y = tf.placeholder(tf.float32, shape=(None, 1), name=\"y\")\n",
    "\n",
    "W = tf.Variable(tf.random_uniform([n + 1, 1], -1.0, 1.0, seed=42), name='W')\n",
    "\n",
    "y_pred = tf.matmul(X, W, name='predictions')  # y = wx + b\n",
    "error = y_pred - y\n",
    "\n",
    "# loss function\n",
    "mse = tf.reduce_mean(tf.square(error), name='mse')\n",
    "# optimizer\n",
    "optimizer = tf.train.GradientDescentOptimizer(learning_rate=learning_rate)\n",
    "training_op = optimizer.minimize(mse)\n",
    "\n",
    "init = tf.global_variables_initializer()"
   ]
  },
  {
   "cell_type": "code",
   "execution_count": 43,
   "metadata": {},
   "outputs": [],
   "source": [
    "# tensorboard에서 요약 정보를 보기위한 설정\n",
    "mse_summary = tf.summary.scalar('MSE', mse)"
   ]
  },
  {
   "cell_type": "code",
   "execution_count": 44,
   "metadata": {},
   "outputs": [],
   "source": [
    "\n",
    "################\n",
    "# hyper-params #\n",
    "################\n",
    "n_epochs = 10\n",
    "batch_size = 100\n",
    "n_batches = int(np.ceil(m / batch_size))  # (20640/100) 올림"
   ]
  },
  {
   "cell_type": "code",
   "execution_count": 45,
   "metadata": {},
   "outputs": [
    {
     "name": "stdout",
     "output_type": "stream",
     "text": [
      "[[ 2.070016  ]\n",
      " [ 0.820456  ]\n",
      " [ 0.1173173 ]\n",
      " [-0.22739047]\n",
      " [ 0.31134018]\n",
      " [ 0.00353193]\n",
      " [-0.01126995]\n",
      " [-0.9164394 ]\n",
      " [-0.8795008 ]]\n"
     ]
    }
   ],
   "source": [
    "with tf.Session() as sess:\n",
    "    sess.run(init)\n",
    "    file_writer = tf.summary.FileWriter(logdir, tf.get_default_graph())\n",
    "    \n",
    "    for epoch in range(n_epochs):\n",
    "        for batch_index in range(n_batches):\n",
    "            X_batch, y_batch = fetch_batch(epoch, batch_index, batch_size)\n",
    "            if batch_index % 10 == 0:\n",
    "                summary_str = mse_summary.eval(feed_dict={X: X_batch, \n",
    "                                                          y: y_batch})\n",
    "                step = epoch * n_batches + batch_index\n",
    "                file_writer.add_summary(summary_str, step)\n",
    "            \n",
    "            sess.run(training_op, feed_dict={X: X_batch,\n",
    "                                             y: y_batch})\n",
    "            \n",
    "    best_W = W.eval()\n",
    "    \n",
    "print(best_W)"
   ]
  },
  {
   "cell_type": "code",
   "execution_count": null,
   "metadata": {},
   "outputs": [],
   "source": []
  },
  {
   "cell_type": "code",
   "execution_count": null,
   "metadata": {},
   "outputs": [],
   "source": []
  }
 ],
 "metadata": {
  "kernelspec": {
   "display_name": "Python 3",
   "language": "python",
   "name": "python3"
  },
  "language_info": {
   "codemirror_mode": {
    "name": "ipython",
    "version": 3
   },
   "file_extension": ".py",
   "mimetype": "text/x-python",
   "name": "python",
   "nbconvert_exporter": "python",
   "pygments_lexer": "ipython3",
   "version": "3.7.4"
  }
 },
 "nbformat": 4,
 "nbformat_minor": 2
}
