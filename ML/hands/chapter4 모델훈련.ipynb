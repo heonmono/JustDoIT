{
 "cells": [
  {
   "cell_type": "markdown",
   "metadata": {},
   "source": [
    "\n",
    "# Chapter 4 모델 훈련"
   ]
  },
  {
   "cell_type": "markdown",
   "metadata": {},
   "source": [
    "### 목차\n",
    "1. 선형 회귀\n",
    "2. 경사 하강법\n",
    "3. 다항 회귀\n",
    "4. 학습 곡선\n",
    "5. 규제가 있는 선형 모델\n",
    "6. 로지스틱 회귀"
   ]
  },
  {
   "cell_type": "markdown",
   "metadata": {},
   "source": [
    "### 1. 선형 회귀"
   ]
  },
  {
   "cell_type": "markdown",
   "metadata": {},
   "source": [
    "머신러닝이 어떻게 학습을 하고 높은 정확도를 구현 할 수 있을까? 모델의 비용 즉 예측값과 실제값의 차이가 가장 작아지는 점을 찾는 것이 학습의 목표이자 최상의 결과이다.\n",
    "  \n",
    " \n",
    "좋은 학습 결과를 얻을 수 있는 기본적인 조건들이 있다.\n",
    "1.\t데이터의 양이 많을수록, 데이터에 잘못된 수치가 적을수록 적절하다.\n",
    "EX) 집값을 예측하는데 있어, 최대한 많은 집값이 있는 것이 학습에 유용하며, 수치가 잘못 표기된 데이터가 있으면 학습이 왜곡된다.\n",
    "2.\t모델이 더욱더 복잡하고 해당 데이터에 적합할 때 더 좋은 학습이 가능하다.\n",
    "3.\t결과에 영향을 줄 수 있는 변수가 많고 의미 없는 변수가 적을수록 좋을 것이다.\n",
    "EX) 껌 판매량과 범죄의 양 의 상관관계는 무의미하다. 범죄에 영향을 주는 변수들이 더 좋은 학습결과를 유도한다.\n"
   ]
  },
  {
   "cell_type": "markdown",
   "metadata": {},
   "source": [
    "통계학에서, 선형 회귀(線型回歸, 영어: linear regression)는 종속 변수 y와 한 개 이상의 독립 변수 (또는 설명 변수) X와의 선형 상관 관계를 모델링하는 회귀분석 기법이다.\n",
    "<위키피디아, 선형회귀분석>\n",
    "\n",
    "선형 회귀분석의 식은 y = wx + b이다. 이를 책에 있는 간단한 예를 들자면\n",
    "삶의 만족도 = w * 1인당_GDP + b라고 해보자.\n",
    "\n",
    "이는 삶의 만족도(y)는 개인의 1인당_GDP * w + 절편이라는 식을 통해 알수 있다. "
   ]
  },
  {
   "cell_type": "markdown",
   "metadata": {},
   "source": [
    "w와 b는 변수로 이들의 값이 변화함에 따라 가장 만족도를 가장 잘 찾을 수 있다.\n",
    "이렇게 변화하는 값을 parameter라고 부른다.\n",
    "최적의 파라미터를 찾기 위해서는 그를 평가하기 위한 기준이 필요하며\n",
    "이를 cost funcntion이라고 한다. cost function은 hx - y의 제곱으로 실제값과 예측값의 차이의 제곱이다.\n",
    "이를 사용하는 이유는 차이가 많이 날때 더 크게 비용을 가져간다. 또한 제곱을 통해 모두 양수이기 때문에 코스트의 양이 양수로 평가된다.\n",
    "즉 cost를 낮추는 것은 실제값과 예측값의 차이를 가장 작게하는 w,b를 탐색하는 것이 학습이다.     "
   ]
  }
 ],
 "metadata": {
  "kernelspec": {
   "display_name": "Python 3",
   "language": "python",
   "name": "python3"
  },
  "language_info": {
   "codemirror_mode": {
    "name": "ipython",
    "version": 3
   },
   "file_extension": ".py",
   "mimetype": "text/x-python",
   "name": "python",
   "nbconvert_exporter": "python",
   "pygments_lexer": "ipython3",
   "version": "3.7.4"
  }
 },
 "nbformat": 4,
 "nbformat_minor": 2
}
